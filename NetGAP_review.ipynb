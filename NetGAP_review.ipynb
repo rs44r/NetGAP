{
 "cells": [
  {
   "cell_type": "code",
   "execution_count": 209,
   "id": "ba5e9a13-d38d-42be-95de-f6f8242c5264",
   "metadata": {},
   "outputs": [],
   "source": [
    "import sys \n",
    "sys.path.append(\"src/\")\n",
    "\n",
    "import math\n",
    "from tqdm import tqdm\n",
    "\n",
    "from GraphBuilder import GraphBuilder\n",
    "from GraphState import GraphState, GraphEvaluator\n",
    "from GeneticEvaluatorOptim import GeneticEvaluator\n",
    "from HybridEvaluator import HybridEvaluator\n",
    "from MCSTree import MCST,State, MonteCarloTreeNode, Policies\n",
    "from MCSTreeUtils import MCSTreeGraph\n",
    "from GrammarLoader import GrammarLoader\n",
    "from GraphUtils import *"
   ]
  },
  {
   "cell_type": "code",
   "execution_count": 204,
   "id": "ff0e7c4a-482f-46a7-ad2d-34380426fcb4",
   "metadata": {},
   "outputs": [],
   "source": [
    "# import math\n",
    "import math\n",
    "from typing import Tuple, Dict, List\n",
    "import json\n",
    "import networkx as nx\n",
    "import numpy as np\n",
    "from GraphState import GraphEvaluator, GraphState\n",
    "from GeneticAlgorithm import GeneticAlgorithm, Individual, ExponentialRankSelector, PartiallyMappedCrossover, ReverseSequenceMutation, SinglePointCrossover, SimpleBoundedMutation\n",
    "\n",
    "\n",
    "from typing import Dict, List\n",
    "import json\n",
    "import math\n",
    "\n",
    "class MappingEvaluator():\n",
    "    \n",
    "    def __init__(self, data_flows, graph=None):\n",
    "        self.data_flows=data_flows        \n",
    "        self.graph=graph\n",
    "        \n",
    "        if graph is not None:\n",
    "             self.module_list = list([x for x, y in graph.nodes(data=True) if 'idType' in y if y['idType'] == 'M'])\n",
    "            \n",
    "        self.shortest_paths = {}\n",
    "        self.simple_paths = {}\n",
    "        self.switch_paths = {}\n",
    "        \n",
    "    def calculate_SW_connectivity(self,graph,cutoff=3):\n",
    "        \n",
    "        switch_connectivity=0\n",
    "        switch_list=list([x for x, y in graph.nodes(data=True) if 'idType' in y if y['idType'] == 'S'])\n",
    "        \n",
    "        count=0\n",
    "        \n",
    "        for s in switch_list:\n",
    "            leaves = [d for d in switch_list if d!=s and (s,d) not in self.switch_paths]\n",
    "            count+=len(leaves )\n",
    "            if len(leaves)>0:\n",
    "                paths = nx.all_simple_paths(graph, s, leaves, cutoff=6)\n",
    "                for path in paths:\n",
    "                    path=list(path)\n",
    "                    if (s, path[-1]) in self.switch_paths:\n",
    "                        self.switch_paths[(s,path[-1])]+=1\n",
    "                        n_paths=self.switch_paths[(s,path[-1])]\n",
    "                        if n_paths==2:\n",
    "                            switch_connectivity+=1\n",
    "                    else: \n",
    "                        self.switch_paths[(s,path[-1])]=1    \n",
    "                                              \n",
    "        return len([n for n in self.switch_paths.values() if n>1])/max(1,len(list(self.switch_paths.values())))\n",
    "                   \n",
    "    def count_hops(self,graph,module_list):\n",
    "        \n",
    "        hops=np.zeros(len(self.data_flows))\n",
    "        for index, c in enumerate(self.data_flows):\n",
    "            if (module_list[c[0]], module_list[c[1]]) not in self.shortest_paths:\n",
    "                try:\n",
    "                    shortest_path = list(nx.shortest_path(graph, source=module_list[c[0]], target=module_list[c[1]]))\n",
    "                except nx.NetworkXNoPath:\n",
    "                    return None\n",
    "                \n",
    "                self.shortest_paths[(module_list[c[0]], module_list[c[1]])]=shortest_path\n",
    "            else:\n",
    "                shortest_path=self.shortest_paths[(module_list[c[0]], module_list[c[1]])]\n",
    "            hops[index] = len(shortest_path)-1\n",
    "                \n",
    "        return hops\n",
    "    \n",
    "    def calculate_link_loads(self,graph,module_list,edge_list):\n",
    "        \n",
    "        edge_loads = np.zeros(len(edge_list))\n",
    "    \n",
    "        for index, c in enumerate(self.data_flows):\n",
    "            if (module_list[c[0]], module_list[c[1]]) not in self.shortest_paths:\n",
    "                try:\n",
    "                    shortest_path = list(nx.shortest_path(graph, source=module_list[c[0]], target=module_list[c[1]])) \n",
    "                except nx.NetworkXNoPath:\n",
    "                    return None\n",
    "                    \n",
    "                self.shortest_paths[(module_list[c[0]], module_list[c[1]])]=shortest_path\n",
    "            else:\n",
    "                shortest_path=self.shortest_paths[(module_list[c[0]], module_list[c[1]])]\n",
    "            for h in range(0, len(shortest_path) - 1):\n",
    "                edge_loads[edge_list.index((shortest_path[h], shortest_path[h + 1]))] += c[2]\n",
    "        \n",
    "        return edge_loads\n",
    "        \n",
    "    def count_link_overloads(self,loads,target):\n",
    "        return (loads / 100e6 > target).sum()\n",
    "    \n",
    "    def max_link_load(self,loads):\n",
    "        return np.max(loads / 100e6)\n",
    "    \n",
    "        \n",
    "    def calculate_LC_scores(self, graph, module_list, alpha=1):\n",
    "        max_load_target=0.79999999999\n",
    "        \n",
    "        edge_list = list(graph.edges())\n",
    "        \n",
    "        \n",
    "        loads = self.calculate_link_loads(graph,module_list,edge_list)\n",
    "        hops = self.count_hops(graph,module_list)\n",
    "        \n",
    "        if loads is not None and hops is not None: \n",
    "            max_load = self.max_link_load(loads)\n",
    "            overload_count = self.count_link_overloads(loads,max_load_target)\n",
    "            mean_hops = np.mean(hops)\n",
    "            max_hops = np.max(hops).astype(int)\n",
    "            latency_score = 2*math.exp(1-max_load/max_load_target   - overload_count)/mean_hops\n",
    "            \n",
    "            for i,e in enumerate(edge_list):\n",
    "                graph.edges[e][\"utilization\"] = loads[i] / 100e6\n",
    "        else:\n",
    "            overload_count=\"N.A\"\n",
    "            max_hops=float(\"inf\")\n",
    "            mean_hops=float(\"inf\")\n",
    "            max_load=\"N.A\"\n",
    "            latency_score=1e-9\n",
    "        \n",
    "        SW_connectivity = self.calculate_SW_connectivity(graph,cutoff=max_hops+2)\n",
    "\n",
    "        connectivity_score = alpha*SW_connectivity\n",
    "        \n",
    "        return latency_score, connectivity_score, \\\n",
    "                                {'max_load': max_load, 'overload_count':overload_count, 'mean_hops': mean_hops,\\\n",
    "                               'max_hops': max_hops, 'latency_score':latency_score,'connectivity_score':connectivity_score,\\\n",
    "                               'SW_connectivity':SW_connectivity}\n",
    "    \n",
    "    def evaluate(self, individual : Individual):\n",
    "        \n",
    "        if isinstance(individual,Individual): \n",
    "            ordering_list = individual.genome \n",
    "            if self.graph is not None:\n",
    "                module_order=[self.module_list[n] for n in ordering_list] \n",
    "                latency, connectivity, stats=self.calculate_LC_scores(self.graph,module_order,alpha=1)\n",
    "                beta=0.25\n",
    "                return (latency*(1-beta)+connectivity*(beta))\n",
    "            else:\n",
    "                raise Exception(\"Evaluate can only be used if graph is set\")\n",
    "        else:\n",
    "                raise TypeError(\"Evaluate argument has to be a genetic algorithm individual\")\n",
    "                \n",
    "\n",
    "class RoutingEvaluator():\n",
    "    \n",
    "    def __init__(self, data_flows, path_dict,graph=None):\n",
    "        self.data_flows=data_flows        \n",
    "        self.graph=graph\n",
    "        self.path_dict = path_dict\n",
    "                           \n",
    "    def count_hops(self,path_list):\n",
    "        \n",
    "        paths=[self.path_dict[(self.data_flows[i][0],self.data_flows[i][1])][1][p] for i,p in enumerate(path_list)]\n",
    "        hops=[self.path_dict[(self.data_flows[i][0],self.data_flows[i][1])][2][p] for i,p in enumerate(path_list)] \n",
    "        return hops\n",
    "    \n",
    "    def calculate_link_loads(self,graph,path_list,edge_list):\n",
    "        \n",
    "        edge_loads = np.zeros(len(edge_list))\n",
    "        paths=[self.path_dict[(self.data_flows[i][0],self.data_flows[i][1])][1][p] for i,p in enumerate(path_list)]\n",
    "        bw=[self.data_flows[i][2] for i,_ in enumerate(path_list)]\n",
    "        \n",
    "     \n",
    "        for i,p in enumerate(paths):\n",
    "            if isinstance(p, list):\n",
    "                #print(p)\n",
    "                for h in range(0, len(p) - 1):\n",
    "                   \n",
    "                    #print((p[h], p[h + 1]))\n",
    "                    edge_loads[edge_list.index((p[h], p[h + 1]))] += bw[i]\n",
    "            \n",
    "        return edge_loads\n",
    "        \n",
    "    def count_link_overloads(self,loads,target):\n",
    "        return (loads / 100e6 > target).sum()\n",
    "    \n",
    "    def max_link_load(self,loads):\n",
    "        return np.max(loads / 100e6)\n",
    "    \n",
    "        \n",
    "    def calculate_latency_scores(self, graph, path_list, alpha=1):\n",
    "        max_load_target=0.79999999999\n",
    "        \n",
    "        edge_list = list(graph.edges())\n",
    "        \n",
    "        \n",
    "        loads = self.calculate_link_loads(graph,path_list,edge_list)\n",
    "        hops = self.count_hops(path_list)\n",
    "        #print(hops)\n",
    "        \n",
    "        if loads is not None and hops is not None: \n",
    "           \n",
    "            max_load = max(max_load_target,self.max_link_load(loads))\n",
    "            overload_count = self.count_link_overloads(loads,max_load_target)\n",
    "            #print(overload_count)\n",
    "            #print(loads/100e6)\n",
    "            mean_hops = np.mean(hops)\n",
    "            max_hops = np.max(hops).astype(int)\n",
    "            latency_score = 2*math.exp(1-max_load/max_load_target   - overload_count)/mean_hops\n",
    "            \n",
    "            for i,e in enumerate(edge_list):\n",
    "                if loads[i]>0.0:\n",
    "                    graph.edges[e][\"utilization\"] = loads[i] / 100e6\n",
    "        \n",
    "        else:\n",
    "            print(\"FELLLL HERE\")\n",
    "            overload_count=\"N.A\"\n",
    "            max_hops=float(\"inf\")\n",
    "            mean_hops=float(\"inf\")\n",
    "            max_load=\"N.A\"\n",
    "            latency_score=1e-9\n",
    "        \n",
    "        return latency_score, {'max_load': max_load, 'overload_count':overload_count, 'mean_hops': mean_hops, 'max_hops': max_hops, 'latency_score':latency_score,}\n",
    "    \n",
    "    def evaluate(self, individual : Individual):\n",
    "        if isinstance(individual,Individual): \n",
    "            path_list = individual.genome \n",
    "            if self.graph is not None:\n",
    "                latency, stats=self.calculate_latency_scores(self.graph,path_list,alpha=1)\n",
    "                return latency\n",
    "            else:\n",
    "                raise Exception(\"Evaluate can only be used if graph is set\")\n",
    "        else:\n",
    "                raise TypeError(\"Evaluate argument has to be a genetic algorithm individual\")\n",
    "   \n",
    "\n",
    "class GeneticRouter(GraphEvaluator):\n",
    "    module_threshold : int\n",
    "    generations : int\n",
    "    weights : Dict[str,float]\n",
    "    data_flows : List[tuple[int,int,float]]\n",
    "    \n",
    "\n",
    "\n",
    "    def __init__(self, weights : Dict[str,float], module_threshold: int =0, pop_size : int =50, generations : int = 3, filename : str =\"data/connections.json\",seed=12345):\n",
    "        self.pop_size = pop_size \n",
    "        self.generations = generations \n",
    "        self.module_threshold=module_threshold\n",
    "        self.weights = weights\n",
    "        self.rng = np.random.default_rng(seed)\n",
    "      \n",
    "        \n",
    "\n",
    "        with open(filename) as file:\n",
    "            self.data_flows = json.loads(json.load(file))\n",
    "        \n",
    "        self.data_flows=[f for f in self.data_flows if f[0] <19]\n",
    "        self.module_threshold=max([max(f[0],f[1]) for f in self.data_flows])+1\n",
    "    \n",
    "    def update_seed(self,seed):\n",
    "        self.rng = np.random.default_rng(seed)\n",
    "\n",
    "    def __str__(self) -> str:\n",
    "        ret_str = f\"module_threshold: {self.module_threshold}\\n\"\n",
    "        ret_str += f\"pop_size: {self.pop_size} \\n\"\n",
    "        ret_str += f\"generations {self.generations} \\n\"\n",
    "        ret_str += str(self.weights)\n",
    "\n",
    "        return ret_str\n",
    "\n",
    "\n",
    "    def trim_graph(self, graph):\n",
    "        graph\n",
    "        nodes_to_remove=[]\n",
    "        changed=True\n",
    "        while(changed):\n",
    "            changed=False\n",
    "            for x,y in graph.nodes(data=True):\n",
    "                if graph.degree(x) >2 and y['idType']=='M':\n",
    "                    edges_to_remove=[(x,z) for z  in graph.neighbors(x)][0:-1]+[(z,x) for z in graph.neighbors(x)][0:-1]\n",
    "                    graph.remove_edges_from(edges_to_remove)\n",
    "                    changed=True\n",
    "                if graph.degree(x) <=2 and y['idType']=='S':\n",
    "                    switches=[n for n in graph.neighbors(x) if graph.nodes[n][\"idType\"]=='S']\n",
    "                    if len(switches)==1:\n",
    "                        nodes_to_remove.append(x)\n",
    "                        changed=True\n",
    "                elif graph.degree(x) == 4 and y['idType']=='S':\n",
    "                    switches=[n for n in graph.neighbors(x) if graph.nodes[n][\"idType\"]=='S']\n",
    "                    modules=[n for n in graph.neighbors(x) if graph.nodes[n][\"idType\"]=='M']\n",
    "                    if len(switches)==1 and len(modules)==1:\n",
    "                        nodes_to_remove.append(x)\n",
    "                        graph.add_edge(switches[0],modules[0])\n",
    "                        graph.add_edge(modules[0],switches[0])\n",
    "                        changed=True\n",
    "            graph.remove_nodes_from(nodes_to_remove)     \n",
    "    \n",
    "   \n",
    "\n",
    "    def evaluate_LC(self, graph,alpha=1):\n",
    "\n",
    "        module_list = list([x for x, y in graph.nodes(data=True) if 'idType' in y if y['idType'] == 'M'])\n",
    "        all_connected = sum([1 for x in module_list if graph.degree(x) ==2 ])\n",
    "            \n",
    "        genome_size = len(module_list)\n",
    "        \n",
    "        mapping_evaluator=MappingEvaluator(self.data_flows,graph=graph)\n",
    "        \n",
    "        \n",
    "        if all_connected<self.module_threshold:\n",
    "            SW_connectivity=mapping_evaluator.calculate_SW_connectivity(graph,6)\n",
    "            connectivity_score=SW_connectivity*(alpha)\n",
    "            #connectivity_score=0\n",
    "            return 0, connectivity_score, \\\n",
    "                    {'connectivity_score': connectivity_score,'SW_connectivity':SW_connectivity,'latency_score':0}, \\\n",
    "                    module_list\n",
    "        \n",
    "   \n",
    "        seed_sel=self.rng.integers(low=1,high=np.iinfo(np.int32).max)\n",
    "        seed_cross=self.rng.integers(low=1,high=np.iinfo(np.int32).max)\n",
    "        seed_mut=self.rng.integers(low=1,high=np.iinfo(np.int32).max)\n",
    "        \n",
    "        selector=ExponentialRankSelector(seed=seed_sel)\n",
    "        crossop=PartiallyMappedCrossover(seed=seed_cross)\n",
    "        mutop=ReverseSequenceMutation(seed=seed_mut)\n",
    "        \n",
    "              \n",
    "        class MappingGenomeInitializer:\n",
    "            def __init__(self, seed=None):\n",
    "                self.rng=np.random.default_rng(seed)\n",
    "            def __call__(self,genome):\n",
    "                linspace=np.linspace(start=0,stop=len(genome)-1, num=len(genome),dtype=int)\n",
    "                self.rng.shuffle(linspace)\n",
    "                return linspace\n",
    "        \n",
    "        seed_init=self.rng.integers(low=1,high=np.iinfo(np.int32).max)\n",
    "        init_fn=MappingGenomeInitializer(seed_init)\n",
    "        \n",
    "        ga = GeneticAlgorithm(genome_size = genome_size, crossover_operator=crossop, \n",
    "                          mutation_operator=mutop, evaluator=mapping_evaluator, selector=selector)\n",
    "\n",
    "        individuals, fitness= ga.run(pop_size = self.pop_size, generations=self.generations, init_fn=init_fn)\n",
    "        \n",
    "    \n",
    "        module_list=[module_list[n] for n in individuals[0].genome]\n",
    "        latency_score,connectivity_score,stats=mapping_evaluator.calculate_LC_scores(graph,module_list,alpha=alpha )\n",
    "        \n",
    "        \n",
    "        #print(\"current best \\n \",stats)\n",
    "        \n",
    "        ##---------------------------------------------------------------------------------------------p----------------------------\n",
    "        ##Routing Stage starts Here    \n",
    "        if latency_score > 1e-3:\n",
    "            switch_list=list([x for x, y in graph.nodes(data=True) if 'idType' in y if y['idType'] == 'S'])\n",
    "            #print(switch_list)\n",
    "\n",
    "\n",
    "            edge_list=[edge for edge in enumerate(graph.edges()) if edge[0] in switch_list and edge[1] in switch_list]\n",
    "\n",
    "            switch_exchanges=[]\n",
    "            for i, c in enumerate(self.data_flows):\n",
    "                source=[x for x in graph.neighbors(module_list[c[0]])][0]\n",
    "                destination=[x for x in graph.neighbors(module_list[c[1]])][0]\n",
    "                switch_exchanges.append((source,destination,c[2]))\n",
    "\n",
    "\n",
    "            exchange_paths={}\n",
    "            for exchange in switch_exchanges:\n",
    "                if not exchange[0]==exchange[1]:\n",
    "                    #path_list=list(nx.all_simple_paths(graph,exchange[0],exchange[1],cutoff=stats[\"max_hops\"]-2))\n",
    "                    #print(path_list)\n",
    "                    path_list=list(nx.all_shortest_paths(graph,exchange[0],exchange[1]))\n",
    "                    #print(path_list)\n",
    "                    #print([len(x)+1 for x in path_list])\n",
    "                    if (exchange[0],exchange[1]) not in exchange_paths:\n",
    "                        exchange_paths[(exchange[0],exchange[1])]=(len(path_list),path_list,[len(x)+1 for x in path_list]) #(number of paths, list of paths, length of paths)   \n",
    "                elif  exchange[0]==exchange[1]:\n",
    "                        exchange_paths[(exchange[0],exchange[1])]=(1,[exchange[0],exchange[1]],[2]) #(number of paths, list of paths, length of paths)\n",
    "            \n",
    "            stats.update({'shortest_routing_options':np.prod(np.asarray([x[0] for x in exchange_paths.values() if x[0]>1]))} )\n",
    "            #print([x[0] for x in exchange_paths.values() if x[0]>1],np.prod(np.asarray([x[0] for x in exchange_paths.values() if x[0]>1])))\n",
    "            routing_evaluator=RoutingEvaluator(switch_exchanges,exchange_paths,graph=graph)\n",
    "\n",
    "            class RoutingGenomeInitializer:\n",
    "                def __init__(self, path_numbers, seed=None):\n",
    "                    self.rng=np.random.default_rng(seed)\n",
    "                    self.path_numbers=path_numbers\n",
    "                def __call__(self,genome):\n",
    "                    if len(genome)==len(self.path_numbers):\n",
    "                        return [np.random.randint(low=0,high=x) for x in self.path_numbers]\n",
    "                    else:\n",
    "                        raise Exception(\"Genome size and path_numbers list does not match\")\n",
    "            \n",
    "            class IndexedBoundedMutation:\n",
    "    \n",
    "                def __init__(self,max_vector,seed=None):\n",
    "                    self.rng=np.random.default_rng(seed)\n",
    "                    self.max_vector=np.asarray(max_vector)\n",
    "\n",
    "                def mutate(self,individual,rate=0.1):\n",
    "\n",
    "                    if self.rng.random()<rate:\n",
    "\n",
    "                        mutable_indexes=np.where(self.max_vector>1)[0]\n",
    "                        if len(mutable_indexes)>3:\n",
    "                            mutation_indexes = np.random.choice(mutable_indexes,np.random.randint(1,len(mutable_indexes)/2),replace=False)\n",
    "                            individual.genome[mutation_indexes]=[np.random.randint(low=0,high=x) for x in self.max_vector[mutation_indexes]]\n",
    "                        elif len(mutable_indexes)>0:\n",
    "                            individual.genome[mutable_indexes]=[np.random.randint(low=0,high=x) for x in self.max_vector[mutable_indexes]]\n",
    "\n",
    "                    return individual\n",
    "\n",
    "            selector=ExponentialRankSelector(seed=seed_sel)\n",
    "            crossop=SinglePointCrossover(seed=seed_cross)\n",
    "            mutop=IndexedBoundedMutation(max_vector=[exchange_paths[(s,d)][0] for s,d,_ in switch_exchanges ],seed=seed_mut)\n",
    "            #mutop=SimpleBoundedMutation(max_vector=[exchange_paths[(s,d)][0] for s,d,_ in switch_exchanges ],seed=seed_mut)\n",
    "\n",
    "            seed_init=self.rng.integers(low=1,high=np.iinfo(np.int32).max)\n",
    "            init_fn=RoutingGenomeInitializer([exchange_paths[(s,d)][0] for s,d,_ in switch_exchanges ],seed=seed_init)\n",
    "\n",
    "            ga = GeneticAlgorithm(genome_size = len(switch_exchanges), crossover_operator=crossop, \n",
    "                              mutation_operator=mutop, evaluator=routing_evaluator, selector=selector)\n",
    "\n",
    "            individuals, fitness= ga.run(pop_size = self.pop_size, generations=self.generations, init_fn=init_fn)\n",
    "            path_list=individuals[0].genome\n",
    "\n",
    "            latency_score,new_stats=routing_evaluator.calculate_latency_scores(graph,path_list)\n",
    "            stats.update(new_stats)\n",
    "        ##----------------------------------------------------------------------------------------------------------------------------------\n",
    "        ##Routing Stage  ends Here\n",
    "        \n",
    "        \n",
    "        return latency_score, connectivity_score, stats, module_list\n",
    "    \n",
    "    def evaluate_cost(self,graph):\n",
    "        module_cost : float =10\n",
    "        link_cost : float =0.1\n",
    "        \n",
    "        hardware_node_list = list([x for x, y in graph.nodes(data=True) if 'idType' in y if y['idType'] in ['S','M']])\n",
    "       \n",
    "        total_cost  = len(hardware_node_list) * 10 #+ graph.number_of_edges() * .1)\n",
    "        normalized_cost = (self.module_threshold+1)*module_cost/ max(1,total_cost)\n",
    "        \n",
    "        if normalized_cost > 1:\n",
    "            return 1/normalized_cost, {'total_cost':total_cost,'cost_score':1/normalized_cost}\n",
    "        else:\n",
    "            return normalized_cost, {'total_cost':total_cost,'cost_score':normalized_cost}\n",
    "    \n",
    "    \n",
    "    def evaluate(self,state):\n",
    "  \n",
    "        self.trim_graph(state.graph)\n",
    "        graph=state.graph\n",
    "        \n",
    "        stats={}\n",
    "        latency_score, connectivity_score, LC_stats,_ = self.evaluate_LC(graph,alpha=1)\n",
    "        \n",
    "        cost_score, cost_stats = self.evaluate_cost(graph)\n",
    "        \n",
    "        stats.update(LC_stats),stats.update(cost_stats)\n",
    "        \n",
    "        score=1e-6\n",
    "        score += latency_score*self.weights['latency'] + connectivity_score*self.weights['connectivity'] \\\n",
    "                + cost_score*self.weights['cost']\n",
    "        score = score / (self.weights['latency']+self.weights['connectivity']+self.weights['cost'])\n",
    "        score = max(5e-3,score)\n",
    "          \n",
    "        stats.update({'score':score})\n",
    "        \n",
    "        hardware_nodes = list([y['idType'] for x, y in graph.nodes(data=True) if 'idType' in y if y['idType'] in ['S','M']])\n",
    "        stats.update({'num_modules':len([x for x in hardware_nodes if x=='M']),'num_switches':len([x for x in hardware_nodes if x=='S']), 'num_links': state.graph.number_of_edges()})\n",
    "        \n",
    "        return score, stats\n",
    "        \n",
    "    def is_terminal(self, state) -> bool:\n",
    "        #return False\n",
    "        #number_of_modules = sum([1 for x, y in state.graph.nodes(data=True) if y and 'idType' in y if y['idType'] == 'M']) >= self.module_threshold\n",
    "        #cost = state.graph.number_of_nodes() > 28\n",
    "        \n",
    "        all_modules=list([x for x, y in state.graph.nodes(data=True) if y and 'idType' in y if y['idType'] == 'M'])\n",
    "        all_connected = sum([1 for x in all_modules if state.graph.degree(x) ==2 ]) == self.module_threshold\n",
    "        \n",
    "        max_switches=len(list([x for x, y in state.graph.nodes(data=True) if y and 'idType' in y if y['idType'] == 'S'])) > 12\n",
    "        \n",
    "        has_G=len(list([x for x, y in state.graph.nodes(data=True) if y and 'idType' in y if y['idType'] == 'G']))>0\n",
    "        \n",
    "        #number_of_modules = sum([1 for x, y in state.graph.nodes(data=True) if y and 'idType' in y if y['idType'] == 'M']) > self.module_threshold\n",
    "        return (all_connected and has_G) or max_switches "
   ]
  },
  {
   "cell_type": "code",
   "execution_count": null,
   "id": "9a86a39d-befe-4c40-8a2b-a4354ba30d81",
   "metadata": {},
   "outputs": [],
   "source": [
    "    "
   ]
  },
  {
   "cell_type": "code",
   "execution_count": 205,
   "id": "d2d7ba23-a8a6-4193-8ecb-ab383a23a780",
   "metadata": {},
   "outputs": [],
   "source": [
    "import matplotlib as plt\n",
    "import time\n",
    "import os\n",
    "\n",
    "def run_search(node,mct):\n",
    "    root=node\n",
    "    path=[]\n",
    "    total_it=0\n",
    "    for i in (pbar := tqdm(range(0,mct.max_depth))):\n",
    "        selected_action, node, it = mct.search(node) \n",
    "        total_it+=it\n",
    "        #print(selected_action[0])\n",
    "        pbar.set_postfix({'iterations': it, 'nodes': len(mct.node_dict)})\n",
    "        path.append(node)\n",
    "        #node.state.draw({'S': ['#ECA47B', 's'], 'M': ['#7B9AEC', 'o'], 'G':['#7B934C', 'd']},size=(8,8),arc_rad=.125, edge_attribute=\"utilization\")\n",
    "        if node.state.is_terminal():\n",
    "            if node.state.graph_evaluator.is_terminal(node.state):\n",
    "                print(\"Exploration terminated: node is terminal by condition\")\n",
    "            else:\n",
    "                print(\"Exploration terminated: node is terminal by rule starvation\")\n",
    "            return node, path, total_it\n",
    " \n",
    "        \n",
    "    return node, path\n",
    "\n",
    "def netgap_search(grammar_filename, print_graph=True, save_filename=None, save_attribute = \"score\", save_th=0.2, search_loops=1,):\n",
    "    \n",
    "    #starts the seeds\n",
    "    seed=2345423\n",
    "    rng=np.random.default_rng(seed)  \n",
    "    seed=rng.integers(low=1,high=np.iinfo(np.int32).max)\n",
    "    \n",
    "    \n",
    "    #starts the grammar and the graph factory\n",
    "    grammar_loader = GrammarLoader(grammar_filename)\n",
    "    grammar = grammar_loader.load()\n",
    "\n",
    "    graph_builder = GraphBuilder(grammar)\n",
    "    \n",
    "    #starts the evaluators\n",
    "    weights={'latency': 12, 'connectivity': 6, 'cost' : 12}\n",
    "    search_evaluator= GeneticRouter(weights=weights, pop_size=50, generations=3,seed=seed,\\\n",
    "                                            filename = \"C:/Users\\smora\\Documents\\LiU\\Workspace\\\\NetGAP\\data\\connections.json\")\n",
    "    refinement_evaluator=GeneticRouter(weights=weights, pop_size=125, generations=8,seed=3458934, \\\n",
    "                         filename = \"C:/Users\\smora\\Documents\\LiU\\Workspace\\\\NetGAP\\data\\connections.json\")\n",
    "    \n",
    "    #starts the common search loop\n",
    "    total_saved=0\n",
    "    for i in range(search_loops):\n",
    "        print(f\"\\n\\nStarting search epoch {i} with seed {seed}\")\n",
    "        seed=rng.integers(low=1,high=np.iinfo(np.int32).max)\n",
    "        \n",
    "        search_evaluator.update_seed(seed)\n",
    "        tree_policies=Policies(seed=seed)\n",
    "        \n",
    "        tree = MCST(iteration_limit=None, time_limit=12000, max_depth=40, transposition_check=True, exploration_constant=2*math.sqrt(2),\\\n",
    "                    rollout_policy= tree_policies.RandomPolicy, selection_policy= tree_policies.UCTPolicy)\n",
    "        \n",
    "        graph=nx.DiGraph()\n",
    "        graph.add_nodes_from([(f'M{x}', {'idType': 'M'}) for x in range(1,20)])\n",
    "        graph.add_node('K', idType='K')\n",
    "        \n",
    "        state = GraphState(graph_builder=graph_builder, graph_evaluator=search_evaluator,graph=graph) \n",
    "        root =  MonteCarloTreeNode(state)\n",
    "        \n",
    "        start = time.time()\n",
    "        node,path,total_it = run_search(root,tree)\n",
    "        end = time.time()\n",
    "        time_diff=end-start\n",
    "        \n",
    "        print(f\"Explored total of {len(tree.logger.log.values())} configurations for a total of {len(tree.logger.log.values())*(50*3+50*3)} solutions in {total_it} iterations\")\n",
    "        print(f\"Exploration took {time_diff:.2f}s\" )\n",
    "        print(f\"Monte Carlo tree  size: {len(tree.node_dict.values())} nodes\")\n",
    "    \n",
    "        \n",
    "        results = tree.logger.log.values()\n",
    "        best_results = sorted([x for x in results if x.reward_stats[\"latency_score\"]>1e-3], key=lambda x: x.reward_stats[\"latency_score\"], reverse=True)\n",
    "       \n",
    "        if len(best_results)>0:\n",
    "            for x in best_results[0:8]:\n",
    "                start = time.time()\n",
    "                x.graph_evaluator=refinement_evaluator\n",
    "                x.get_reward()\n",
    "                end = time.time()\n",
    "                x.reward_stats.update({\"search_time\":time_diff+end-start})\n",
    "\n",
    "            print(f\"Best Solution: {best_results[0].reward_stats['score']:.2f} found in {(time_diff+end-start):.2f}s\")\n",
    "            print(best_results[0].reward_stats)\n",
    "\n",
    "            if print_graph:\n",
    "                best_results[0].draw({'S': ['#ECA47B', 's'], 'M': ['#7B9AEC', 'o'], 'G':['#7B934C', 'd']},size=(8,8),arc_rad=.125,edge_attribute=\"utilization\")\n",
    "\n",
    "            if save_filename is not None:\n",
    "                if best_results[0].reward_stats[save_attribute] > save_th:\n",
    "                    total_saved+=1\n",
    "\n",
    "                    now = datetime.datetime.now()\n",
    "                    date= f\"{now.month}{now.day}{now.hour}{now.minute}\"\n",
    "                    filename = f\"{save_filename}_{date}\"\n",
    "\n",
    "                    best_results[0].save_to_file('C:/Users\\smora\\Documents\\LiU\\Workspace\\\\NetGAP\\data\\example_graphs',filename)\n",
    "\n",
    "                    nx.write_gexf(best_results[0].graph,f'C:/Users\\smora\\Documents\\LiU\\Workspace\\\\NetGAP\\data\\example_graphs\\{save_filename}.gexf')\n",
    "\n",
    "    return total_saved"
   ]
  },
  {
   "cell_type": "code",
   "execution_count": 208,
   "id": "a2c5cb72-8ad4-47b8-a09b-5aafe0564393",
   "metadata": {},
   "outputs": [
    {
     "name": "stdout",
     "output_type": "stream",
     "text": [
      "\n",
      "\n",
      "Starting search epoch 0 with seed 592889853\n"
     ]
    },
    {
     "name": "stderr",
     "output_type": "stream",
     "text": [
      " 88%|███████████████████████████████████████████████████████████████████████████████████████▌            | 35/40 [07:33<01:04, 12.96s/it, iterations=12, nodes=290]\n"
     ]
    },
    {
     "name": "stdout",
     "output_type": "stream",
     "text": [
      "Exploration terminated: node is terminal by condition\n",
      "Explored total of 1005 configurations for a total of 301500 solutions in 1013 iterations\n",
      "Exploration took 453.51s\n",
      "Monte Carlo tree  size: 290 nodes\n",
      "Best Solution: 0.72 found in 457.27s\n",
      "{'max_load': 0.79999999999, 'overload_count': 0, 'mean_hops': 3.4874551971326166, 'max_hops': 5, 'latency_score': 0.5734840698869476, 'connectivity_score': 1.0, 'SW_connectivity': 1.0, 'shortest_routing_options': -520093696, 'total_cost': 280, 'cost_score': 0.7142857142857143, 'score': 0.7151079470023981, 'num_modules': 19, 'num_switches': 9, 'num_links': 70, 'search_time': 456.9431390762329}\n",
      "will write graph_state object to file  C:/Users\\smora\\Documents\\LiU\\Workspace\\NetGAP\\data\\example_graphs\\configuration_6p_11281920.json\n",
      "\n",
      "\n",
      "Starting search epoch 1 with seed 700205256\n"
     ]
    },
    {
     "name": "stderr",
     "output_type": "stream",
     "text": [
      " 70%|██████████████████████████████████████████████████████████████████████                              | 28/40 [05:56<02:32, 12.75s/it, iterations=38, nodes=193]\n"
     ]
    },
    {
     "name": "stdout",
     "output_type": "stream",
     "text": [
      "Exploration terminated: node is terminal by condition\n",
      "Explored total of 734 configurations for a total of 220200 solutions in 867 iterations\n",
      "Exploration took 357.00s\n",
      "Monte Carlo tree  size: 193 nodes\n",
      "Best Solution: 0.71 found in 360.65s\n",
      "{'max_load': 0.79999999999, 'overload_count': 0, 'mean_hops': 3.5089605734767026, 'max_hops': 5, 'latency_score': 0.5699693564862104, 'connectivity_score': 1.0, 'SW_connectivity': 1.0, 'shortest_routing_options': 2457600, 'total_cost': 280, 'cost_score': 0.7142857142857143, 'score': 0.7137020616421031, 'num_modules': 19, 'num_switches': 9, 'num_links': 68, 'search_time': 360.60030722618103}\n",
      "will write graph_state object to file  C:/Users\\smora\\Documents\\LiU\\Workspace\\NetGAP\\data\\example_graphs\\configuration_6p_11281926.json\n",
      "\n",
      "\n",
      "Starting search epoch 2 with seed 991589811\n"
     ]
    },
    {
     "name": "stderr",
     "output_type": "stream",
     "text": [
      " 75%|███████████████████████████████████████████████████████████████████████████                         | 30/40 [06:25<02:08, 12.85s/it, iterations=29, nodes=251]\n"
     ]
    },
    {
     "name": "stdout",
     "output_type": "stream",
     "text": [
      "Exploration terminated: node is terminal by condition\n",
      "Explored total of 906 configurations for a total of 271800 solutions in 929 iterations\n",
      "Exploration took 385.43s\n",
      "Monte Carlo tree  size: 251 nodes\n",
      "Best Solution: 0.71 found in 389.20s\n",
      "{'max_load': 0.79999999999, 'overload_count': 0, 'mean_hops': 3.4802867383512543, 'max_hops': 5, 'latency_score': 0.5746652935118435, 'connectivity_score': 1.0, 'SW_connectivity': 1.0, 'shortest_routing_options': -1342177280, 'total_cost': 290, 'cost_score': 0.6896551724137931, 'score': 0.705728219703588, 'num_modules': 19, 'num_switches': 10, 'num_links': 78, 'search_time': 388.9034786224365}\n",
      "will write graph_state object to file  C:/Users\\smora\\Documents\\LiU\\Workspace\\NetGAP\\data\\example_graphs\\configuration_6p_11281933.json\n",
      "\n",
      "\n",
      "Starting search epoch 3 with seed 1073042120\n"
     ]
    },
    {
     "name": "stderr",
     "output_type": "stream",
     "text": [
      " 70%|██████████████████████████████████████████████████████████████████████                              | 28/40 [05:58<02:33, 12.80s/it, iterations=36, nodes=207]\n"
     ]
    },
    {
     "name": "stdout",
     "output_type": "stream",
     "text": [
      "Exploration terminated: node is terminal by condition\n",
      "Explored total of 788 configurations for a total of 236400 solutions in 923 iterations\n",
      "Exploration took 358.38s\n",
      "Monte Carlo tree  size: 207 nodes\n",
      "Best Solution: 0.73 found in 362.01s\n",
      "{'max_load': 0.79999999999, 'overload_count': 0, 'mean_hops': 3.4910394265232974, 'max_hops': 5, 'latency_score': 0.5728952772073922, 'connectivity_score': 1.0, 'SW_connectivity': 1.0, 'shortest_routing_options': 589824, 'total_cost': 270, 'cost_score': 0.7407407407407407, 'score': 0.7254544405125867, 'num_modules': 19, 'num_switches': 8, 'num_links': 64, 'search_time': 361.7634880542755}\n",
      "will write graph_state object to file  C:/Users\\smora\\Documents\\LiU\\Workspace\\NetGAP\\data\\example_graphs\\configuration_6p_11281940.json\n",
      "\n",
      "\n",
      "Starting search epoch 4 with seed 1544843536\n"
     ]
    },
    {
     "name": "stderr",
     "output_type": "stream",
     "text": [
      " 72%|████████████████████████████████████████████████████████████████████████▌                           | 29/40 [06:17<02:23, 13.01s/it, iterations=27, nodes=240]\n"
     ]
    },
    {
     "name": "stdout",
     "output_type": "stream",
     "text": [
      "Exploration terminated: node is terminal by condition\n",
      "Explored total of 925 configurations for a total of 277500 solutions in 934 iterations\n",
      "Exploration took 377.33s\n",
      "Monte Carlo tree  size: 240 nodes\n",
      "Best Solution: 0.70 found in 380.63s\n",
      "{'max_load': 0.79999999999, 'overload_count': 0, 'mean_hops': 3.5913978494623655, 'max_hops': 5, 'latency_score': 0.5568862275449102, 'connectivity_score': 1.0, 'SW_connectivity': 1.0, 'shortest_routing_options': -469762048, 'total_cost': 290, 'cost_score': 0.6896551724137931, 'score': 0.6986165933168146, 'num_modules': 19, 'num_switches': 10, 'num_links': 78, 'search_time': 380.9360337257385}\n",
      "will write graph_state object to file  C:/Users\\smora\\Documents\\LiU\\Workspace\\NetGAP\\data\\example_graphs\\configuration_6p_11281946.json\n",
      "\n",
      "\n",
      "Starting search epoch 5 with seed 494792457\n"
     ]
    },
    {
     "name": "stderr",
     "output_type": "stream",
     "text": [
      " 65%|████████████████████████████████████████████████████████████████▎                                  | 26/40 [05:42<03:04, 13.18s/it, iterations=109, nodes=199]\n"
     ]
    },
    {
     "name": "stdout",
     "output_type": "stream",
     "text": [
      "Exploration terminated: node is terminal by condition\n",
      "Explored total of 764 configurations for a total of 229200 solutions in 916 iterations\n",
      "Exploration took 342.58s\n",
      "Monte Carlo tree  size: 199 nodes\n",
      "Best Solution: 0.70 found in 345.73s\n",
      "{'max_load': 0.79999999999, 'overload_count': 0, 'mean_hops': 3.4982078853046596, 'max_hops': 5, 'latency_score': 0.5717213114754098, 'connectivity_score': 1.0, 'SW_connectivity': 1.0, 'shortest_routing_options': 56623104, 'total_cost': 290, 'cost_score': 0.6896551724137931, 'score': 0.7045506268890145, 'num_modules': 19, 'num_switches': 10, 'num_links': 76, 'search_time': 346.1188921928406}\n",
      "will write graph_state object to file  C:/Users\\smora\\Documents\\LiU\\Workspace\\NetGAP\\data\\example_graphs\\configuration_6p_11281953.json\n",
      "\n",
      "\n",
      "Starting search epoch 6 with seed 697537645\n"
     ]
    },
    {
     "name": "stderr",
     "output_type": "stream",
     "text": [
      " 72%|████████████████████████████████████████████████████████████████████████▌                           | 29/40 [06:13<02:21, 12.87s/it, iterations=36, nodes=184]\n"
     ]
    },
    {
     "name": "stdout",
     "output_type": "stream",
     "text": [
      "Exploration terminated: node is terminal by condition\n",
      "Explored total of 848 configurations for a total of 254400 solutions in 891 iterations\n",
      "Exploration took 373.30s\n",
      "Monte Carlo tree  size: 184 nodes\n",
      "Best Solution: 0.53 found in 376.77s\n",
      "{'max_load': 1.17952512, 'overload_count': 1, 'mean_hops': 3.5663082437275984, 'max_hops': 5, 'latency_score': 0.1283762113442177, 'connectivity_score': 1.0, 'SW_connectivity': 1.0, 'shortest_routing_options': 419430400, 'total_cost': 290, 'cost_score': 0.6896551724137931, 'score': 0.5272125868365376, 'num_modules': 19, 'num_switches': 10, 'num_links': 76, 'search_time': 376.66393995285034}\n",
      "\n",
      "\n",
      "Starting search epoch 7 with seed 452066989\n"
     ]
    },
    {
     "name": "stderr",
     "output_type": "stream",
     "text": [
      " 82%|██████████████████████████████████████████████████████████████████████████████████▌                 | 33/40 [07:03<01:29, 12.84s/it, iterations=33, nodes=256]\n"
     ]
    },
    {
     "name": "stdout",
     "output_type": "stream",
     "text": [
      "Exploration terminated: node is terminal by condition\n",
      "Explored total of 930 configurations for a total of 279000 solutions in 985 iterations\n",
      "Exploration took 423.66s\n",
      "Monte Carlo tree  size: 256 nodes\n",
      "Best Solution: 0.69 found in 427.43s\n",
      "{'max_load': 0.79999999999, 'overload_count': 0, 'mean_hops': 3.5376344086021505, 'max_hops': 5, 'latency_score': 0.5653495440729484, 'connectivity_score': 1.0, 'SW_connectivity': 1.0, 'shortest_routing_options': -1879048192, 'total_cost': 300, 'cost_score': 0.6666666666666666, 'score': 0.6928065176291794, 'num_modules': 19, 'num_switches': 11, 'num_links': 78, 'search_time': 427.51193737983704}\n",
      "will write graph_state object to file  C:/Users\\smora\\Documents\\LiU\\Workspace\\NetGAP\\data\\example_graphs\\configuration_6p_1128207.json\n",
      "\n",
      "\n",
      "Starting search epoch 8 with seed 589159583\n"
     ]
    },
    {
     "name": "stderr",
     "output_type": "stream",
     "text": [
      " 95%|███████████████████████████████████████████████████████████████████████████████████████████████     | 38/40 [08:11<00:25, 12.93s/it, iterations=19, nodes=268]\n"
     ]
    },
    {
     "name": "stdout",
     "output_type": "stream",
     "text": [
      "Exploration terminated: node is terminal by condition\n",
      "Explored total of 947 configurations for a total of 284100 solutions in 1035 iterations\n",
      "Exploration took 491.31s\n",
      "Monte Carlo tree  size: 268 nodes\n",
      "Best Solution: 0.70 found in 495.03s\n",
      "{'max_load': 0.79999999999, 'overload_count': 0, 'mean_hops': 3.5519713261648747, 'max_hops': 5, 'latency_score': 0.5630676084762866, 'connectivity_score': 1.0, 'SW_connectivity': 1.0, 'shortest_routing_options': -1497366528, 'total_cost': 290, 'cost_score': 0.6896551724137931, 'score': 0.7010891456893653, 'num_modules': 19, 'num_switches': 10, 'num_links': 76, 'search_time': 494.56226873397827}\n",
      "will write graph_state object to file  C:/Users\\smora\\Documents\\LiU\\Workspace\\NetGAP\\data\\example_graphs\\configuration_6p_11282015.json\n",
      "\n",
      "\n",
      "Starting search epoch 9 with seed 517671805\n"
     ]
    },
    {
     "name": "stderr",
     "output_type": "stream",
     "text": [
      " 68%|███████████████████████████████████████████████████████████████████▌                                | 27/40 [05:49<02:48, 12.95s/it, iterations=40, nodes=160]\n"
     ]
    },
    {
     "name": "stdout",
     "output_type": "stream",
     "text": [
      "Exploration terminated: node is terminal by condition\n",
      "Explored total of 837 configurations for a total of 251100 solutions in 840 iterations\n",
      "Exploration took 349.71s\n",
      "Monte Carlo tree  size: 160 nodes\n",
      "Best Solution: 0.70 found in 353.37s\n",
      "{'max_load': 0.79999999999, 'overload_count': 0, 'mean_hops': 3.5806451612903225, 'max_hops': 5, 'latency_score': 0.5585585585585585, 'connectivity_score': 1.0, 'SW_connectivity': 1.0, 'shortest_routing_options': 530841600, 'total_cost': 290, 'cost_score': 0.6896551724137931, 'score': 0.699285525722274, 'num_modules': 19, 'num_switches': 10, 'num_links': 74, 'search_time': 353.24624013900757}\n",
      "will write graph_state object to file  C:/Users\\smora\\Documents\\LiU\\Workspace\\NetGAP\\data\\example_graphs\\configuration_6p_11282022.json\n",
      "\n",
      "\n",
      "Starting search epoch 10 with seed 536895217\n"
     ]
    },
    {
     "name": "stderr",
     "output_type": "stream",
     "text": [
      " 78%|█████████████████████████████████████████████████████████████████████████████▌                      | 31/40 [06:41<01:56, 12.94s/it, iterations=23, nodes=239]\n"
     ]
    },
    {
     "name": "stdout",
     "output_type": "stream",
     "text": [
      "Exploration terminated: node is terminal by condition\n",
      "Explored total of 889 configurations for a total of 266700 solutions in 910 iterations\n",
      "Exploration took 401.17s\n",
      "Monte Carlo tree  size: 239 nodes\n",
      "Best Solution: 0.73 found in 405.13s\n",
      "{'max_load': 0.79999999999, 'overload_count': 0, 'mean_hops': 3.4157706093189963, 'max_hops': 4, 'latency_score': 0.5855194123819517, 'connectivity_score': 1.0, 'SW_connectivity': 1.0, 'shortest_routing_options': 4096, 'total_cost': 270, 'cost_score': 0.7407407407407407, 'score': 0.7305040945824104, 'num_modules': 19, 'num_switches': 8, 'num_links': 64, 'search_time': 404.1761770248413}\n",
      "will write graph_state object to file  C:/Users\\smora\\Documents\\LiU\\Workspace\\NetGAP\\data\\example_graphs\\configuration_6p_11282029.json\n",
      "\n",
      "\n",
      "Starting search epoch 11 with seed 1737530650\n"
     ]
    },
    {
     "name": "stderr",
     "output_type": "stream",
     "text": [
      " 68%|███████████████████████████████████████████████████████████████████▌                                | 27/40 [05:49<02:48, 12.96s/it, iterations=72, nodes=262]\n"
     ]
    },
    {
     "name": "stdout",
     "output_type": "stream",
     "text": [
      "Exploration terminated: node is terminal by condition\n",
      "Explored total of 899 configurations for a total of 269700 solutions in 973 iterations\n",
      "Exploration took 349.82s\n",
      "Monte Carlo tree  size: 262 nodes\n",
      "Best Solution: 0.70 found in 353.60s\n",
      "{'max_load': 0.79999999999, 'overload_count': 0, 'mean_hops': 3.5627240143369177, 'max_hops': 5, 'latency_score': 0.5613682092555332, 'connectivity_score': 1.0, 'SW_connectivity': 1.0, 'shortest_routing_options': -1191182336, 'total_cost': 290, 'cost_score': 0.6896551724137931, 'score': 0.700409386001064, 'num_modules': 19, 'num_switches': 10, 'num_links': 76, 'search_time': 353.33939504623413}\n",
      "will write graph_state object to file  C:/Users\\smora\\Documents\\LiU\\Workspace\\NetGAP\\data\\example_graphs\\configuration_6p_11282035.json\n",
      "\n",
      "\n",
      "Starting search epoch 12 with seed 2000095732\n"
     ]
    },
    {
     "name": "stderr",
     "output_type": "stream",
     "text": [
      " 85%|█████████████████████████████████████████████████████████████████████████████████████               | 34/40 [07:12<01:16, 12.72s/it, iterations=36, nodes=270]\n"
     ]
    },
    {
     "name": "stdout",
     "output_type": "stream",
     "text": [
      "Exploration terminated: node is terminal by condition\n",
      "Explored total of 1050 configurations for a total of 315000 solutions in 1082 iterations\n",
      "Exploration took 432.51s\n",
      "Monte Carlo tree  size: 270 nodes\n",
      "Best Solution: 0.70 found in 435.83s\n",
      "{'max_load': 0.79999999999, 'overload_count': 0, 'mean_hops': 3.5448028673835124, 'max_hops': 5, 'latency_score': 0.564206268958544, 'connectivity_score': 1.0, 'SW_connectivity': 1.0, 'shortest_routing_options': 214990848, 'total_cost': 290, 'cost_score': 0.6896551724137931, 'score': 0.7015446098822682, 'num_modules': 19, 'num_switches': 10, 'num_links': 74, 'search_time': 435.92435932159424}\n",
      "will write graph_state object to file  C:/Users\\smora\\Documents\\LiU\\Workspace\\NetGAP\\data\\example_graphs\\configuration_6p_11282043.json\n",
      "\n",
      "\n",
      "Starting search epoch 13 with seed 771279219\n"
     ]
    },
    {
     "name": "stderr",
     "output_type": "stream",
     "text": [
      " 92%|█████████████████████████████████████████████████████████████████████████████████████████████▍       | 37/40 [07:59<00:38, 12.96s/it, iterations=8, nodes=375]\n"
     ]
    },
    {
     "name": "stdout",
     "output_type": "stream",
     "text": [
      "Exploration terminated: node is terminal by condition\n",
      "Explored total of 1369 configurations for a total of 410700 solutions in 1374 iterations\n",
      "Exploration took 479.55s\n",
      "Monte Carlo tree  size: 375 nodes\n",
      "Best Solution: 0.72 found in 482.93s\n",
      "{'max_load': 0.79999999999, 'overload_count': 0, 'mean_hops': 3.4695340501792113, 'max_hops': 5, 'latency_score': 0.5764462809917356, 'connectivity_score': 1.0, 'SW_connectivity': 1.0, 'shortest_routing_options': 589824, 'total_cost': 280, 'cost_score': 0.7142857142857143, 'score': 0.7162928314443133, 'num_modules': 19, 'num_switches': 9, 'num_links': 68, 'search_time': 482.64363956451416}\n",
      "will write graph_state object to file  C:/Users\\smora\\Documents\\LiU\\Workspace\\NetGAP\\data\\example_graphs\\configuration_6p_11282051.json\n",
      "\n",
      "\n",
      "Starting search epoch 14 with seed 782820078\n"
     ]
    },
    {
     "name": "stderr",
     "output_type": "stream",
     "text": [
      " 68%|███████████████████████████████████████████████████████████████████▌                                | 27/40 [05:46<02:47, 12.85s/it, iterations=36, nodes=184]\n"
     ]
    },
    {
     "name": "stdout",
     "output_type": "stream",
     "text": [
      "Exploration terminated: node is terminal by condition\n",
      "Explored total of 846 configurations for a total of 253800 solutions in 956 iterations\n",
      "Exploration took 346.86s\n",
      "Monte Carlo tree  size: 184 nodes\n",
      "Best Solution: 0.70 found in 350.33s\n",
      "{'max_load': 0.79999999999, 'overload_count': 0, 'mean_hops': 3.5053763440860215, 'max_hops': 5, 'latency_score': 0.5705521472392638, 'connectivity_score': 1.0, 'SW_connectivity': 1.0, 'shortest_routing_options': 73728, 'total_cost': 290, 'cost_score': 0.6896551724137931, 'score': 0.7040829611945563, 'num_modules': 19, 'num_switches': 10, 'num_links': 70, 'search_time': 349.9198319911957}\n",
      "will write graph_state object to file  C:/Users\\smora\\Documents\\LiU\\Workspace\\NetGAP\\data\\example_graphs\\configuration_6p_11282058.json\n",
      "\n",
      "\n",
      "Starting search epoch 15 with seed 1105322747\n"
     ]
    },
    {
     "name": "stderr",
     "output_type": "stream",
     "text": [
      " 68%|███████████████████████████████████████████████████████████████████▌                                | 27/40 [05:47<02:47, 12.88s/it, iterations=39, nodes=233]\n"
     ]
    },
    {
     "name": "stdout",
     "output_type": "stream",
     "text": [
      "Exploration terminated: node is terminal by condition\n",
      "Explored total of 835 configurations for a total of 250500 solutions in 967 iterations\n",
      "Exploration took 347.84s\n",
      "Monte Carlo tree  size: 233 nodes\n",
      "Best Solution: 0.69 found in 351.09s\n",
      "{'max_load': 0.79999999999, 'overload_count': 0, 'mean_hops': 3.6129032258064515, 'max_hops': 5, 'latency_score': 0.5535714285714286, 'connectivity_score': 1.0, 'SW_connectivity': 1.0, 'shortest_routing_options': 452984832, 'total_cost': 300, 'cost_score': 0.6666666666666666, 'score': 0.6880952714285714, 'num_modules': 19, 'num_switches': 11, 'num_links': 76, 'search_time': 351.53654646873474}\n",
      "will write graph_state object to file  C:/Users\\smora\\Documents\\LiU\\Workspace\\NetGAP\\data\\example_graphs\\configuration_6p_1128214.json\n",
      "\n",
      "\n",
      "Starting search epoch 16 with seed 394953105\n"
     ]
    },
    {
     "name": "stderr",
     "output_type": "stream",
     "text": [
      " 78%|█████████████████████████████████████████████████████████████████████████████▌                      | 31/40 [06:43<01:57, 13.03s/it, iterations=20, nodes=203]\n"
     ]
    },
    {
     "name": "stdout",
     "output_type": "stream",
     "text": [
      "Exploration terminated: node is terminal by condition\n",
      "Explored total of 951 configurations for a total of 285300 solutions in 967 iterations\n",
      "Exploration took 403.84s\n",
      "Monte Carlo tree  size: 203 nodes\n",
      "Best Solution: 0.73 found in 407.69s\n",
      "{'max_load': 0.79999999999, 'overload_count': 0, 'mean_hops': 3.412186379928315, 'max_hops': 4, 'latency_score': 0.5861344537815126, 'connectivity_score': 1.0, 'SW_connectivity': 1.0, 'shortest_routing_options': 9216, 'total_cost': 270, 'cost_score': 0.7407407407407407, 'score': 0.7307501111422348, 'num_modules': 19, 'num_switches': 8, 'num_links': 64, 'search_time': 407.2581117153168}\n",
      "will write graph_state object to file  C:/Users\\smora\\Documents\\LiU\\Workspace\\NetGAP\\data\\example_graphs\\configuration_6p_11282111.json\n",
      "\n",
      "\n",
      "Starting search epoch 17 with seed 793811089\n"
     ]
    },
    {
     "name": "stderr",
     "output_type": "stream",
     "text": [
      " 68%|███████████████████████████████████████████████████████████████████▌                                | 27/40 [05:44<02:46, 12.78s/it, iterations=39, nodes=187]\n"
     ]
    },
    {
     "name": "stdout",
     "output_type": "stream",
     "text": [
      "Exploration terminated: node is terminal by condition\n",
      "Explored total of 851 configurations for a total of 255300 solutions in 919 iterations\n",
      "Exploration took 344.99s\n",
      "Monte Carlo tree  size: 187 nodes\n",
      "Best Solution: 0.51 found in 348.53s\n",
      "{'max_load': 1.11110176, 'overload_count': 2, 'mean_hops': 3.5232974910394264, 'max_hops': 5, 'latency_score': 0.052072028375542, 'connectivity_score': 1.0, 'SW_connectivity': 1.0, 'shortest_routing_options': 1787822080, 'total_cost': 280, 'cost_score': 0.7142857142857143, 'score': 0.5065431303978358, 'num_modules': 19, 'num_switches': 9, 'num_links': 72, 'search_time': 348.38535141944885}\n",
      "\n",
      "\n",
      "Starting search epoch 18 with seed 376231170\n"
     ]
    },
    {
     "name": "stderr",
     "output_type": "stream",
     "text": [
      " 78%|█████████████████████████████████████████████████████████████████████████████▌                      | 31/40 [06:42<01:56, 13.00s/it, iterations=20, nodes=214]\n"
     ]
    },
    {
     "name": "stdout",
     "output_type": "stream",
     "text": [
      "Exploration terminated: node is terminal by condition\n",
      "Explored total of 890 configurations for a total of 267000 solutions in 921 iterations\n",
      "Exploration took 402.95s\n",
      "Monte Carlo tree  size: 214 nodes\n",
      "Best Solution: 0.55 found in 406.67s\n",
      "{'max_load': 1.01421856, 'overload_count': 1, 'mean_hops': 3.5448028673835124, 'max_hops': 5, 'latency_score': 0.15880018435290935, 'connectivity_score': 1.0, 'SW_connectivity': 1.0, 'shortest_routing_options': 9437184, 'total_cost': 280, 'cost_score': 0.7142857142857143, 'score': 0.5492343927887828, 'num_modules': 19, 'num_switches': 9, 'num_links': 70, 'search_time': 406.47428464889526}\n",
      "will write graph_state object to file  C:/Users\\smora\\Documents\\LiU\\Workspace\\NetGAP\\data\\example_graphs\\configuration_6p_11282125.json\n",
      "\n",
      "\n",
      "Starting search epoch 19 with seed 689656761\n"
     ]
    },
    {
     "name": "stderr",
     "output_type": "stream",
     "text": [
      " 72%|████████████████████████████████████████████████████████████████████████▌                           | 29/40 [06:10<02:20, 12.78s/it, iterations=30, nodes=177]\n"
     ]
    },
    {
     "name": "stdout",
     "output_type": "stream",
     "text": [
      "Exploration terminated: node is terminal by condition\n",
      "Explored total of 763 configurations for a total of 228900 solutions in 830 iterations\n",
      "Exploration took 370.60s\n",
      "Monte Carlo tree  size: 177 nodes\n",
      "Best Solution: 0.72 found in 374.23s\n",
      "{'max_load': 0.79999999999, 'overload_count': 0, 'mean_hops': 3.4659498207885306, 'max_hops': 4, 'latency_score': 0.5770423991726991, 'connectivity_score': 1.0, 'SW_connectivity': 1.0, 'shortest_routing_options': -425132032, 'total_cost': 280, 'cost_score': 0.7142857142857143, 'score': 0.7165312787166987, 'num_modules': 19, 'num_switches': 9, 'num_links': 72, 'search_time': 374.1921806335449}\n",
      "will write graph_state object to file  C:/Users\\smora\\Documents\\LiU\\Workspace\\NetGAP\\data\\example_graphs\\configuration_6p_11282131.json\n",
      "\n",
      "\n",
      "Starting search epoch 20 with seed 741051424\n"
     ]
    },
    {
     "name": "stderr",
     "output_type": "stream",
     "text": [
      " 90%|██████████████████████████████████████████████████████████████████████████████████████████          | 36/40 [07:39<00:51, 12.78s/it, iterations=18, nodes=324]\n"
     ]
    },
    {
     "name": "stdout",
     "output_type": "stream",
     "text": [
      "Exploration terminated: node is terminal by condition\n",
      "Explored total of 1379 configurations for a total of 413700 solutions in 1392 iterations\n",
      "Exploration took 459.91s\n",
      "Monte Carlo tree  size: 324 nodes\n",
      "Best Solution: 0.56 found in 463.12s\n",
      "{'max_load': 0.89355936, 'overload_count': 1, 'mean_hops': 3.4731182795698925, 'max_hops': 5, 'latency_score': 0.1884627603335483, 'connectivity_score': 1.0, 'SW_connectivity': 1.0, 'shortest_routing_options': 58982400, 'total_cost': 280, 'cost_score': 0.7142857142857143, 'score': 0.5610994231810384, 'num_modules': 19, 'num_switches': 9, 'num_links': 70, 'search_time': 463.20108795166016}\n",
      "will write graph_state object to file  C:/Users\\smora\\Documents\\LiU\\Workspace\\NetGAP\\data\\example_graphs\\configuration_6p_11282139.json\n",
      "\n",
      "\n",
      "Starting search epoch 21 with seed 1805061792\n"
     ]
    },
    {
     "name": "stderr",
     "output_type": "stream",
     "text": [
      " 70%|██████████████████████████████████████████████████████████████████████                              | 28/40 [06:01<02:35, 12.92s/it, iterations=44, nodes=178]\n"
     ]
    },
    {
     "name": "stdout",
     "output_type": "stream",
     "text": [
      "Exploration terminated: node is terminal by condition\n",
      "Explored total of 822 configurations for a total of 246600 solutions in 858 iterations\n",
      "Exploration took 361.79s\n",
      "Monte Carlo tree  size: 178 nodes\n",
      "Best Solution: 0.72 found in 365.43s\n",
      "{'max_load': 0.79999999999, 'overload_count': 0, 'mean_hops': 3.4480286738351253, 'max_hops': 4, 'latency_score': 0.58004158004158, 'connectivity_score': 1.0, 'SW_connectivity': 1.0, 'shortest_routing_options': 21233664, 'total_cost': 280, 'cost_score': 0.7142857142857143, 'score': 0.717730951064251, 'num_modules': 19, 'num_switches': 9, 'num_links': 72, 'search_time': 365.43008160591125}\n",
      "will write graph_state object to file  C:/Users\\smora\\Documents\\LiU\\Workspace\\NetGAP\\data\\example_graphs\\configuration_6p_11282146.json\n",
      "\n",
      "\n",
      "Starting search epoch 22 with seed 180671109\n"
     ]
    },
    {
     "name": "stderr",
     "output_type": "stream",
     "text": [
      " 70%|██████████████████████████████████████████████████████████████████████                              | 28/40 [05:55<02:32, 12.71s/it, iterations=40, nodes=282]\n"
     ]
    },
    {
     "name": "stdout",
     "output_type": "stream",
     "text": [
      "Exploration terminated: node is terminal by condition\n",
      "Explored total of 898 configurations for a total of 269400 solutions in 974 iterations\n",
      "Exploration took 355.81s\n",
      "Monte Carlo tree  size: 282 nodes\n",
      "Best Solution: 0.71 found in 359.18s\n",
      "{'max_load': 0.79999999999, 'overload_count': 0, 'mean_hops': 3.5197132616487457, 'max_hops': 5, 'latency_score': 0.5682281059063137, 'connectivity_score': 1.0, 'SW_connectivity': 1.0, 'shortest_routing_options': 583008256, 'total_cost': 280, 'cost_score': 0.7142857142857143, 'score': 0.7130055614101445, 'num_modules': 19, 'num_switches': 9, 'num_links': 68, 'search_time': 359.25620198249817}\n",
      "will write graph_state object to file  C:/Users\\smora\\Documents\\LiU\\Workspace\\NetGAP\\data\\example_graphs\\configuration_6p_11282152.json\n",
      "\n",
      "\n",
      "Starting search epoch 23 with seed 476174338\n"
     ]
    },
    {
     "name": "stderr",
     "output_type": "stream",
     "text": [
      " 60%|████████████████████████████████████████████████████████████                                        | 24/40 [05:09<03:26, 12.88s/it, iterations=39, nodes=179]\n"
     ]
    },
    {
     "name": "stdout",
     "output_type": "stream",
     "text": [
      "Exploration terminated: node is terminal by condition\n",
      "Explored total of 717 configurations for a total of 215100 solutions in 864 iterations\n",
      "Exploration took 309.11s\n",
      "Monte Carlo tree  size: 179 nodes\n",
      "Best Solution: 0.54 found in 311.14s\n",
      "{'max_load': 0.80818528, 'overload_count': 1, 'mean_hops': 3.5770609318996414, 'max_hops': 5, 'latency_score': 0.20359431564125743, 'connectivity_score': 1.0, 'SW_connectivity': 1.0, 'shortest_routing_options': 764411904, 'total_cost': 310, 'cost_score': 0.6451612903225806, 'score': 0.5395022757188686, 'num_modules': 19, 'num_switches': 12, 'num_links': 82, 'search_time': 312.7502336502075}\n",
      "will write graph_state object to file  C:/Users\\smora\\Documents\\LiU\\Workspace\\NetGAP\\data\\example_graphs\\configuration_6p_11282158.json\n",
      "\n",
      "\n",
      "Starting search epoch 24 with seed 33084953\n"
     ]
    },
    {
     "name": "stderr",
     "output_type": "stream",
     "text": [
      " 78%|███████████████████████████████████████████████████████████████████████████▉                      | 31/40 [06:35<01:54, 12.75s/it, iterations=2384, nodes=282]\n"
     ]
    },
    {
     "name": "stdout",
     "output_type": "stream",
     "text": [
      "Exploration terminated: node is terminal by condition\n",
      "Explored total of 1037 configurations for a total of 311100 solutions in 3412 iterations\n",
      "Exploration took 395.31s\n",
      "Monte Carlo tree  size: 282 nodes\n",
      "Best Solution: 0.70 found in 399.07s\n",
      "{'max_load': 0.79999999999, 'overload_count': 0, 'mean_hops': 3.5412186379928317, 'max_hops': 5, 'latency_score': 0.5647773279352226, 'connectivity_score': 1.0, 'SW_connectivity': 1.0, 'shortest_routing_options': 796262400, 'total_cost': 290, 'cost_score': 0.6896551724137931, 'score': 0.7017730334729396, 'num_modules': 19, 'num_switches': 10, 'num_links': 74, 'search_time': 398.69763231277466}\n",
      "will write graph_state object to file  C:/Users\\smora\\Documents\\LiU\\Workspace\\NetGAP\\data\\example_graphs\\configuration_6p_1128225.json\n",
      "\n",
      "\n",
      "Starting search epoch 25 with seed 1297447539\n"
     ]
    },
    {
     "name": "stderr",
     "output_type": "stream",
     "text": [
      " 70%|██████████████████████████████████████████████████████████████████████                              | 28/40 [05:58<02:33, 12.81s/it, iterations=38, nodes=268]\n"
     ]
    },
    {
     "name": "stdout",
     "output_type": "stream",
     "text": [
      "Exploration terminated: node is terminal by condition\n",
      "Explored total of 852 configurations for a total of 255600 solutions in 934 iterations\n",
      "Exploration took 358.67s\n",
      "Monte Carlo tree  size: 268 nodes\n",
      "Best Solution: 0.69 found in 362.20s\n",
      "{'max_load': 0.79999999999, 'overload_count': 0, 'mean_hops': 3.5268817204301075, 'max_hops': 5, 'latency_score': 0.5670731707317073, 'connectivity_score': 1.0, 'SW_connectivity': 1.0, 'shortest_routing_options': 1107296256, 'total_cost': 300, 'cost_score': 0.6666666666666666, 'score': 0.693495968292683, 'num_modules': 19, 'num_switches': 11, 'num_links': 82, 'search_time': 362.14098834991455}\n",
      "will write graph_state object to file  C:/Users\\smora\\Documents\\LiU\\Workspace\\NetGAP\\data\\example_graphs\\configuration_6p_11282211.json\n",
      "\n",
      "\n",
      "Starting search epoch 26 with seed 133608515\n"
     ]
    },
    {
     "name": "stderr",
     "output_type": "stream",
     "text": [
      " 62%|█████████████████████████████████████████████████████████████▉                                     | 25/40 [05:22<03:13, 12.89s/it, iterations=115, nodes=196]\n"
     ]
    },
    {
     "name": "stdout",
     "output_type": "stream",
     "text": [
      "Exploration terminated: node is terminal by condition\n",
      "Explored total of 786 configurations for a total of 235800 solutions in 1147 iterations\n",
      "Exploration took 322.21s\n",
      "Monte Carlo tree  size: 196 nodes\n",
      "Best Solution: 0.71 found in 325.45s\n",
      "{'max_load': 0.79999999999, 'overload_count': 0, 'mean_hops': 3.5089605734767026, 'max_hops': 5, 'latency_score': 0.5699693564862104, 'connectivity_score': 1.0, 'SW_connectivity': 1.0, 'shortest_routing_options': 241864704, 'total_cost': 280, 'cost_score': 0.7142857142857143, 'score': 0.7137020616421031, 'num_modules': 19, 'num_switches': 9, 'num_links': 70, 'search_time': 325.8568754196167}\n",
      "will write graph_state object to file  C:/Users\\smora\\Documents\\LiU\\Workspace\\NetGAP\\data\\example_graphs\\configuration_6p_11282217.json\n",
      "\n",
      "\n",
      "Starting search epoch 27 with seed 757202403\n"
     ]
    },
    {
     "name": "stderr",
     "output_type": "stream",
     "text": [
      " 92%|████████████████████████████████████████████████████████████████████████████████████████████▌       | 37/40 [07:56<00:38, 12.88s/it, iterations=18, nodes=274]\n"
     ]
    },
    {
     "name": "stdout",
     "output_type": "stream",
     "text": [
      "Exploration terminated: node is terminal by condition\n",
      "Explored total of 887 configurations for a total of 266100 solutions in 917 iterations\n",
      "Exploration took 476.51s\n",
      "Monte Carlo tree  size: 274 nodes\n",
      "Best Solution: 0.71 found in 480.06s\n",
      "{'max_load': 0.79999999999, 'overload_count': 0, 'mean_hops': 3.4408602150537635, 'max_hops': 4, 'latency_score': 0.58125, 'connectivity_score': 1.0, 'SW_connectivity': 1.0, 'shortest_routing_options': 262144, 'total_cost': 290, 'cost_score': 0.6896551724137931, 'score': 0.7083621022988507, 'num_modules': 19, 'num_switches': 10, 'num_links': 74, 'search_time': 479.855500459671}\n",
      "will write graph_state object to file  C:/Users\\smora\\Documents\\LiU\\Workspace\\NetGAP\\data\\example_graphs\\configuration_6p_11282226.json\n",
      "\n",
      "\n",
      "Starting search epoch 28 with seed 217303016\n"
     ]
    },
    {
     "name": "stderr",
     "output_type": "stream",
     "text": [
      " 68%|███████████████████████████████████████████████████████████████████▌                                | 27/40 [05:53<02:50, 13.08s/it, iterations=59, nodes=191]\n"
     ]
    },
    {
     "name": "stdout",
     "output_type": "stream",
     "text": [
      "Exploration terminated: node is terminal by condition\n",
      "Explored total of 781 configurations for a total of 234300 solutions in 841 iterations\n",
      "Exploration took 353.15s\n",
      "Monte Carlo tree  size: 191 nodes\n",
      "Best Solution: 0.70 found in 356.77s\n",
      "{'max_load': 0.79999999999, 'overload_count': 0, 'mean_hops': 3.5125448028673834, 'max_hops': 5, 'latency_score': 0.5693877551020409, 'connectivity_score': 1.0, 'SW_connectivity': 1.0, 'shortest_routing_options': -1237319680, 'total_cost': 290, 'cost_score': 0.6896551724137931, 'score': 0.7036172043396669, 'num_modules': 19, 'num_switches': 10, 'num_links': 76, 'search_time': 356.9718930721283}\n",
      "will write graph_state object to file  C:/Users\\smora\\Documents\\LiU\\Workspace\\NetGAP\\data\\example_graphs\\configuration_6p_11282232.json\n",
      "\n",
      "\n",
      "Starting search epoch 29 with seed 1157820225\n"
     ]
    },
    {
     "name": "stderr",
     "output_type": "stream",
     "text": [
      " 78%|█████████████████████████████████████████████████████████████████████████████▌                      | 31/40 [06:41<01:56, 12.95s/it, iterations=32, nodes=177]\n"
     ]
    },
    {
     "name": "stdout",
     "output_type": "stream",
     "text": [
      "Exploration terminated: node is terminal by condition\n",
      "Explored total of 882 configurations for a total of 264600 solutions in 928 iterations\n",
      "Exploration took 401.44s\n",
      "Monte Carlo tree  size: 177 nodes\n",
      "Best Solution: 0.72 found in 405.13s\n",
      "{'max_load': 0.79999999999, 'overload_count': 0, 'mean_hops': 3.4444444444444446, 'max_hops': 4, 'latency_score': 0.5806451612903225, 'connectivity_score': 1.0, 'SW_connectivity': 1.0, 'shortest_routing_options': 37748736, 'total_cost': 280, 'cost_score': 0.7142857142857143, 'score': 0.717972383563748, 'num_modules': 19, 'num_switches': 9, 'num_links': 72, 'search_time': 404.61813378334045}\n",
      "will write graph_state object to file  C:/Users\\smora\\Documents\\LiU\\Workspace\\NetGAP\\data\\example_graphs\\configuration_6p_11282239.json\n",
      "\n",
      "\n",
      "Starting search epoch 30 with seed 713519063\n"
     ]
    },
    {
     "name": "stderr",
     "output_type": "stream",
     "text": [
      " 70%|██████████████████████████████████████████████████████████████████████                              | 28/40 [06:03<02:35, 12.96s/it, iterations=37, nodes=233]\n"
     ]
    },
    {
     "name": "stdout",
     "output_type": "stream",
     "text": [
      "Exploration terminated: node is terminal by condition\n",
      "Explored total of 900 configurations for a total of 270000 solutions in 956 iterations\n",
      "Exploration took 363.02s\n",
      "Monte Carlo tree  size: 233 nodes\n",
      "Best Solution: 0.56 found in 366.62s\n",
      "{'max_load': 0.8023552, 'overload_count': 1, 'mean_hops': 3.4551971326164876, 'max_hops': 4, 'latency_score': 0.21231668277145532, 'connectivity_score': 1.0, 'SW_connectivity': 1.0, 'shortest_routing_options': 11943936, 'total_cost': 290, 'cost_score': 0.6896551724137931, 'score': 0.5607887754074328, 'num_modules': 19, 'num_switches': 10, 'num_links': 76, 'search_time': 366.119998216629}\n",
      "will write graph_state object to file  C:/Users\\smora\\Documents\\LiU\\Workspace\\NetGAP\\data\\example_graphs\\configuration_6p_11282246.json\n",
      "\n",
      "\n",
      "Starting search epoch 31 with seed 2070481977\n"
     ]
    },
    {
     "name": "stderr",
     "output_type": "stream",
     "text": [
      " 72%|████████████████████████████████████████████████████████████████████████▌                           | 29/40 [06:08<02:19, 12.72s/it, iterations=33, nodes=224]\n"
     ]
    },
    {
     "name": "stdout",
     "output_type": "stream",
     "text": [
      "Exploration terminated: node is terminal by condition\n",
      "Explored total of 872 configurations for a total of 261600 solutions in 881 iterations\n",
      "Exploration took 368.90s\n",
      "Monte Carlo tree  size: 224 nodes\n",
      "Best Solution: 0.49 found in 372.39s\n",
      "{'max_load': 1.04652512, 'overload_count': 3, 'mean_hops': 3.5340501792114694, 'max_hops': 5, 'latency_score': 0.020703473471386548, 'connectivity_score': 1.0, 'SW_connectivity': 1.0, 'shortest_routing_options': 11664, 'total_cost': 280, 'cost_score': 0.7142857142857143, 'score': 0.49399570843617363, 'num_modules': 19, 'num_switches': 9, 'num_links': 66, 'search_time': 372.0567047595978}\n",
      "\n",
      "\n",
      "Starting search epoch 32 with seed 1046062082\n"
     ]
    },
    {
     "name": "stderr",
     "output_type": "stream",
     "text": [
      " 70%|██████████████████████████████████████████████████████████████████████                              | 28/40 [05:59<02:34, 12.85s/it, iterations=30, nodes=197]\n"
     ]
    },
    {
     "name": "stdout",
     "output_type": "stream",
     "text": [
      "Exploration terminated: node is terminal by condition\n",
      "Explored total of 822 configurations for a total of 246600 solutions in 865 iterations\n",
      "Exploration took 359.67s\n",
      "Monte Carlo tree  size: 197 nodes\n",
      "Best Solution: 0.71 found in 362.95s\n",
      "{'max_load': 0.79999999999, 'overload_count': 0, 'mean_hops': 3.5591397849462365, 'max_hops': 5, 'latency_score': 0.5619335347432024, 'connectivity_score': 1.0, 'SW_connectivity': 1.0, 'shortest_routing_options': 1073741824, 'total_cost': 280, 'cost_score': 0.7142857142857143, 'score': 0.7104877329449, 'num_modules': 19, 'num_switches': 9, 'num_links': 70, 'search_time': 363.2264232635498}\n",
      "will write graph_state object to file  C:/Users\\smora\\Documents\\LiU\\Workspace\\NetGAP\\data\\example_graphs\\configuration_6p_11282259.json\n",
      "\n",
      "\n",
      "Starting search epoch 33 with seed 1189865388\n"
     ]
    },
    {
     "name": "stderr",
     "output_type": "stream",
     "text": [
      " 82%|██████████████████████████████████████████████████████████████████████████████████▌                 | 33/40 [07:08<01:30, 12.97s/it, iterations=15, nodes=205]\n"
     ]
    },
    {
     "name": "stdout",
     "output_type": "stream",
     "text": [
      "Exploration terminated: node is terminal by condition\n",
      "Explored total of 874 configurations for a total of 262200 solutions in 884 iterations\n",
      "Exploration took 428.14s\n",
      "Monte Carlo tree  size: 205 nodes\n",
      "Best Solution: 0.72 found in 431.75s\n",
      "{'max_load': 0.79999999999, 'overload_count': 0, 'mean_hops': 3.4480286738351253, 'max_hops': 5, 'latency_score': 0.58004158004158, 'connectivity_score': 1.0, 'SW_connectivity': 1.0, 'shortest_routing_options': 382205952, 'total_cost': 280, 'cost_score': 0.7142857142857143, 'score': 0.717730951064251, 'num_modules': 19, 'num_switches': 9, 'num_links': 70, 'search_time': 431.72665524482727}\n",
      "will write graph_state object to file  C:/Users\\smora\\Documents\\LiU\\Workspace\\NetGAP\\data\\example_graphs\\configuration_6p_1128236.json\n",
      "\n",
      "\n",
      "Starting search epoch 34 with seed 1945079027\n"
     ]
    },
    {
     "name": "stderr",
     "output_type": "stream",
     "text": [
      " 78%|█████████████████████████████████████████████████████████████████████████████▌                      | 31/40 [06:42<01:56, 12.97s/it, iterations=28, nodes=204]\n"
     ]
    },
    {
     "name": "stdout",
     "output_type": "stream",
     "text": [
      "Exploration terminated: node is terminal by condition\n",
      "Explored total of 979 configurations for a total of 293700 solutions in 1005 iterations\n",
      "Exploration took 402.20s\n",
      "Monte Carlo tree  size: 204 nodes\n",
      "Best Solution: 0.72 found in 406.02s\n",
      "{'max_load': 0.79999999999, 'overload_count': 0, 'mean_hops': 3.4838709677419355, 'max_hops': 5, 'latency_score': 0.5740740740740741, 'connectivity_score': 1.0, 'SW_connectivity': 1.0, 'shortest_routing_options': 5308416, 'total_cost': 280, 'cost_score': 0.7142857142857143, 'score': 0.7153439486772488, 'num_modules': 19, 'num_switches': 9, 'num_links': 70, 'search_time': 405.7302300930023}\n",
      "will write graph_state object to file  C:/Users\\smora\\Documents\\LiU\\Workspace\\NetGAP\\data\\example_graphs\\configuration_6p_11282314.json\n",
      "\n",
      "\n",
      "Starting search epoch 35 with seed 1229308411\n"
     ]
    },
    {
     "name": "stderr",
     "output_type": "stream",
     "text": [
      " 72%|████████████████████████████████████████████████████████████████████████▌                           | 29/40 [06:11<02:20, 12.81s/it, iterations=37, nodes=189]\n"
     ]
    },
    {
     "name": "stdout",
     "output_type": "stream",
     "text": [
      "Exploration terminated: node is terminal by condition\n",
      "Explored total of 836 configurations for a total of 250800 solutions in 944 iterations\n",
      "Exploration took 371.43s\n",
      "Monte Carlo tree  size: 189 nodes\n",
      "Best Solution: 0.70 found in 375.24s\n",
      "{'max_load': 0.79999999999, 'overload_count': 0, 'mean_hops': 3.5340501792114694, 'max_hops': 5, 'latency_score': 0.565922920892495, 'connectivity_score': 1.0, 'SW_connectivity': 1.0, 'shortest_routing_options': -527777792, 'total_cost': 290, 'cost_score': 0.6896551724137931, 'score': 0.7022312706558487, 'num_modules': 19, 'num_switches': 10, 'num_links': 76, 'search_time': 374.90945649147034}\n",
      "will write graph_state object to file  C:/Users\\smora\\Documents\\LiU\\Workspace\\NetGAP\\data\\example_graphs\\configuration_6p_11282320.json\n",
      "\n",
      "\n",
      "Starting search epoch 36 with seed 1820682068\n"
     ]
    },
    {
     "name": "stderr",
     "output_type": "stream",
     "text": [
      " 72%|████████████████████████████████████████████████████████████████████████▌                           | 29/40 [06:12<02:21, 12.86s/it, iterations=19, nodes=202]\n"
     ]
    },
    {
     "name": "stdout",
     "output_type": "stream",
     "text": [
      "Exploration terminated: node is terminal by condition\n",
      "Explored total of 990 configurations for a total of 297000 solutions in 1025 iterations\n",
      "Exploration took 372.82s\n",
      "Monte Carlo tree  size: 202 nodes\n",
      "Best Solution: 0.73 found in 376.04s\n",
      "{'max_load': 0.79999999999, 'overload_count': 0, 'mean_hops': 3.3835125448028673, 'max_hops': 4, 'latency_score': 0.5911016949152542, 'connectivity_score': 1.0, 'SW_connectivity': 1.0, 'shortest_routing_options': 36864, 'total_cost': 270, 'cost_score': 0.7407407407407407, 'score': 0.7327370075957312, 'num_modules': 19, 'num_switches': 8, 'num_links': 66, 'search_time': 376.5121624469757}\n",
      "will write graph_state object to file  C:/Users\\smora\\Documents\\LiU\\Workspace\\NetGAP\\data\\example_graphs\\configuration_6p_11282327.json\n",
      "\n",
      "\n",
      "Starting search epoch 37 with seed 1203121323\n"
     ]
    },
    {
     "name": "stderr",
     "output_type": "stream",
     "text": [
      " 68%|███████████████████████████████████████████████████████████████████▌                                | 27/40 [05:48<02:47, 12.91s/it, iterations=33, nodes=169]\n"
     ]
    },
    {
     "name": "stdout",
     "output_type": "stream",
     "text": [
      "Exploration terminated: node is terminal by condition\n",
      "Explored total of 793 configurations for a total of 237900 solutions in 914 iterations\n",
      "Exploration took 348.58s\n",
      "Monte Carlo tree  size: 169 nodes\n",
      "Best Solution: 0.70 found in 351.61s\n",
      "{'max_load': 0.79999999999, 'overload_count': 0, 'mean_hops': 3.4910394265232974, 'max_hops': 5, 'latency_score': 0.5728952772073922, 'connectivity_score': 1.0, 'SW_connectivity': 1.0, 'shortest_routing_options': 1327104, 'total_cost': 300, 'cost_score': 0.6666666666666666, 'score': 0.6958248108829569, 'num_modules': 19, 'num_switches': 11, 'num_links': 80, 'search_time': 351.7790322303772}\n",
      "will write graph_state object to file  C:/Users\\smora\\Documents\\LiU\\Workspace\\NetGAP\\data\\example_graphs\\configuration_6p_11282333.json\n",
      "\n",
      "\n",
      "Starting search epoch 38 with seed 237675273\n"
     ]
    },
    {
     "name": "stderr",
     "output_type": "stream",
     "text": [
      " 75%|███████████████████████████████████████████████████████████████████████████                         | 30/40 [06:22<02:07, 12.76s/it, iterations=36, nodes=240]\n"
     ]
    },
    {
     "name": "stdout",
     "output_type": "stream",
     "text": [
      "Exploration terminated: node is terminal by condition\n",
      "Explored total of 909 configurations for a total of 272700 solutions in 1048 iterations\n",
      "Exploration took 382.88s\n",
      "Monte Carlo tree  size: 240 nodes\n",
      "Best Solution: 0.71 found in 386.94s\n",
      "{'max_load': 0.79999999999, 'overload_count': 0, 'mean_hops': 3.4838709677419355, 'max_hops': 5, 'latency_score': 0.5740740740740741, 'connectivity_score': 1.0, 'SW_connectivity': 1.0, 'shortest_routing_options': 679477248, 'total_cost': 290, 'cost_score': 0.6896551724137931, 'score': 0.7054917319284804, 'num_modules': 19, 'num_switches': 10, 'num_links': 76, 'search_time': 386.36245918273926}\n",
      "will write graph_state object to file  C:/Users\\smora\\Documents\\LiU\\Workspace\\NetGAP\\data\\example_graphs\\configuration_6p_11282340.json\n",
      "\n",
      "\n",
      "Starting search epoch 39 with seed 522191747\n"
     ]
    },
    {
     "name": "stderr",
     "output_type": "stream",
     "text": [
      " 68%|███████████████████████████████████████████████████████████████████▌                                | 27/40 [05:56<02:51, 13.20s/it, iterations=33, nodes=230]\n"
     ]
    },
    {
     "name": "stdout",
     "output_type": "stream",
     "text": [
      "Exploration terminated: node is terminal by condition\n",
      "Explored total of 865 configurations for a total of 259500 solutions in 934 iterations\n",
      "Exploration took 356.50s\n",
      "Monte Carlo tree  size: 230 nodes\n",
      "Best Solution: 0.69 found in 359.90s\n",
      "{'max_load': 0.79999999999, 'overload_count': 0, 'mean_hops': 3.6272401433691757, 'max_hops': 5, 'latency_score': 0.5513833992094862, 'connectivity_score': 1.0, 'SW_connectivity': 1.0, 'shortest_routing_options': 1073741824, 'total_cost': 300, 'cost_score': 0.6666666666666666, 'score': 0.6872200596837945, 'num_modules': 19, 'num_switches': 11, 'num_links': 80, 'search_time': 360.00574016571045}\n",
      "will write graph_state object to file  C:/Users\\smora\\Documents\\LiU\\Workspace\\NetGAP\\data\\example_graphs\\configuration_6p_11282346.json\n",
      "\n",
      "\n",
      "Starting search epoch 40 with seed 1335919340\n"
     ]
    },
    {
     "name": "stderr",
     "output_type": "stream",
     "text": [
      " 68%|███████████████████████████████████████████████████████████████████▌                                | 27/40 [06:08<02:57, 13.63s/it, iterations=37, nodes=120]\n"
     ]
    },
    {
     "name": "stdout",
     "output_type": "stream",
     "text": [
      "Exploration terminated: node is terminal by condition\n",
      "Explored total of 542 configurations for a total of 162600 solutions in 597 iterations\n",
      "Exploration took 368.11s\n",
      "Monte Carlo tree  size: 120 nodes\n",
      "Best Solution: 0.72 found in 371.96s\n",
      "{'max_load': 0.79999999999, 'overload_count': 0, 'mean_hops': 3.4767025089605736, 'max_hops': 5, 'latency_score': 0.5752577319587628, 'connectivity_score': 1.0, 'SW_connectivity': 1.0, 'shortest_routing_options': 262144, 'total_cost': 280, 'cost_score': 0.7142857142857143, 'score': 0.7158174118311244, 'num_modules': 19, 'num_switches': 9, 'num_links': 70, 'search_time': 371.4489607810974}\n",
      "will write graph_state object to file  C:/Users\\smora\\Documents\\LiU\\Workspace\\NetGAP\\data\\example_graphs\\configuration_6p_11282353.json\n",
      "\n",
      "\n",
      "Starting search epoch 41 with seed 1133494311\n"
     ]
    },
    {
     "name": "stderr",
     "output_type": "stream",
     "text": [
      " 62%|██████████████████████████████████████████████████████████████▌                                     | 25/40 [05:19<03:11, 12.78s/it, iterations=68, nodes=150]\n"
     ]
    },
    {
     "name": "stdout",
     "output_type": "stream",
     "text": [
      "Exploration terminated: node is terminal by condition\n",
      "Explored total of 678 configurations for a total of 203400 solutions in 901 iterations\n",
      "Exploration took 319.57s\n",
      "Monte Carlo tree  size: 150 nodes\n",
      "Best Solution: 0.70 found in 323.21s\n",
      "{'max_load': 0.79999999999, 'overload_count': 0, 'mean_hops': 3.5232974910394264, 'max_hops': 5, 'latency_score': 0.5676500508646999, 'connectivity_score': 1.0, 'SW_connectivity': 1.0, 'shortest_routing_options': 1875116032, 'total_cost': 290, 'cost_score': 0.6896551724137931, 'score': 0.7029221226447306, 'num_modules': 19, 'num_switches': 10, 'num_links': 74, 'search_time': 322.9578776359558}\n",
      "will write graph_state object to file  C:/Users\\smora\\Documents\\LiU\\Workspace\\NetGAP\\data\\example_graphs\\configuration_6p_11282359.json\n",
      "\n",
      "\n",
      "Starting search epoch 42 with seed 385198057\n"
     ]
    },
    {
     "name": "stderr",
     "output_type": "stream",
     "text": [
      " 90%|██████████████████████████████████████████████████████████████████████████████████████████          | 36/40 [07:40<00:51, 12.79s/it, iterations=30, nodes=242]\n"
     ]
    },
    {
     "name": "stdout",
     "output_type": "stream",
     "text": [
      "Exploration terminated: node is terminal by condition\n",
      "Explored total of 1208 configurations for a total of 362400 solutions in 1226 iterations\n",
      "Exploration took 460.54s\n",
      "Monte Carlo tree  size: 242 nodes\n",
      "Best Solution: 0.72 found in 464.17s\n",
      "{'max_load': 0.79999999999, 'overload_count': 0, 'mean_hops': 3.4874551971326166, 'max_hops': 4, 'latency_score': 0.5734840698869476, 'connectivity_score': 1.0, 'SW_connectivity': 1.0, 'shortest_routing_options': 5308416, 'total_cost': 280, 'cost_score': 0.7142857142857143, 'score': 0.7151079470023981, 'num_modules': 19, 'num_switches': 9, 'num_links': 70, 'search_time': 464.1121048927307}\n",
      "will write graph_state object to file  C:/Users\\smora\\Documents\\LiU\\Workspace\\NetGAP\\data\\example_graphs\\configuration_6p_112907.json\n",
      "\n",
      "\n",
      "Starting search epoch 43 with seed 4164250\n"
     ]
    },
    {
     "name": "stderr",
     "output_type": "stream",
     "text": [
      " 70%|██████████████████████████████████████████████████████████████████████                              | 28/40 [05:59<02:33, 12.83s/it, iterations=39, nodes=174]\n"
     ]
    },
    {
     "name": "stdout",
     "output_type": "stream",
     "text": [
      "Exploration terminated: node is terminal by condition\n",
      "Explored total of 859 configurations for a total of 257700 solutions in 889 iterations\n",
      "Exploration took 359.32s\n",
      "Monte Carlo tree  size: 174 nodes\n",
      "Best Solution: 0.70 found in 363.18s\n",
      "{'max_load': 0.79999999999, 'overload_count': 0, 'mean_hops': 3.5125448028673834, 'max_hops': 5, 'latency_score': 0.5693877551020409, 'connectivity_score': 1.0, 'SW_connectivity': 1.0, 'shortest_routing_options': 822083584, 'total_cost': 290, 'cost_score': 0.6896551724137931, 'score': 0.7036172043396669, 'num_modules': 19, 'num_switches': 10, 'num_links': 78, 'search_time': 362.86474871635437}\n",
      "will write graph_state object to file  C:/Users\\smora\\Documents\\LiU\\Workspace\\NetGAP\\data\\example_graphs\\configuration_6p_1129014.json\n",
      "\n",
      "\n",
      "Starting search epoch 44 with seed 884478456\n"
     ]
    },
    {
     "name": "stderr",
     "output_type": "stream",
     "text": [
      " 70%|██████████████████████████████████████████████████████████████████████                              | 28/40 [05:59<02:34, 12.84s/it, iterations=36, nodes=212]\n"
     ]
    },
    {
     "name": "stdout",
     "output_type": "stream",
     "text": [
      "Exploration terminated: node is terminal by condition\n",
      "Explored total of 827 configurations for a total of 248100 solutions in 896 iterations\n",
      "Exploration took 359.57s\n",
      "Monte Carlo tree  size: 212 nodes\n",
      "Best Solution: 0.56 found in 363.30s\n",
      "{'max_load': 0.98445472, 'overload_count': 1, 'mean_hops': 3.4695340501792113, 'max_hops': 5, 'latency_score': 0.16839522630879541, 'connectivity_score': 1.0, 'SW_connectivity': 1.0, 'shortest_routing_options': 82944, 'total_cost': 270, 'cost_score': 0.7407407407407407, 'score': 0.5636544201531478, 'num_modules': 19, 'num_switches': 8, 'num_links': 64, 'search_time': 362.65231823921204}\n",
      "will write graph_state object to file  C:/Users\\smora\\Documents\\LiU\\Workspace\\NetGAP\\data\\example_graphs\\configuration_6p_1129020.json\n",
      "\n",
      "\n",
      "Starting search epoch 45 with seed 1956825184\n"
     ]
    },
    {
     "name": "stderr",
     "output_type": "stream",
     "text": [
      " 65%|█████████████████████████████████████████████████████████████████                                   | 26/40 [05:38<03:02, 13.01s/it, iterations=40, nodes=185]\n"
     ]
    },
    {
     "name": "stdout",
     "output_type": "stream",
     "text": [
      "Exploration terminated: node is terminal by condition\n",
      "Explored total of 718 configurations for a total of 215400 solutions in 810 iterations\n",
      "Exploration took 338.28s\n",
      "Monte Carlo tree  size: 185 nodes\n",
      "Best Solution: 0.57 found in 341.77s\n",
      "{'max_load': 0.88396448, 'overload_count': 1, 'mean_hops': 3.4838709677419355, 'max_hops': 5, 'latency_score': 0.19014802292849192, 'connectivity_score': 1.0, 'SW_connectivity': 1.0, 'shortest_routing_options': 1787822080, 'total_cost': 270, 'cost_score': 0.7407407407407407, 'score': 0.5723555388010265, 'num_modules': 19, 'num_switches': 8, 'num_links': 66, 'search_time': 341.4588921070099}\n",
      "will write graph_state object to file  C:/Users\\smora\\Documents\\LiU\\Workspace\\NetGAP\\data\\example_graphs\\configuration_6p_1129026.json\n",
      "\n",
      "\n",
      "Starting search epoch 46 with seed 577008466\n"
     ]
    },
    {
     "name": "stderr",
     "output_type": "stream",
     "text": [
      " 72%|████████████████████████████████████████████████████████████████████████▌                           | 29/40 [06:14<02:22, 12.92s/it, iterations=35, nodes=288]\n"
     ]
    },
    {
     "name": "stdout",
     "output_type": "stream",
     "text": [
      "Exploration terminated: node is terminal by condition\n",
      "Explored total of 912 configurations for a total of 273600 solutions in 950 iterations\n",
      "Exploration took 374.63s\n",
      "Monte Carlo tree  size: 288 nodes\n",
      "Best Solution: 0.70 found in 378.17s\n",
      "{'max_load': 0.79999999999, 'overload_count': 0, 'mean_hops': 3.5913978494623655, 'max_hops': 5, 'latency_score': 0.5568862275449102, 'connectivity_score': 1.0, 'SW_connectivity': 1.0, 'shortest_routing_options': 6553600, 'total_cost': 290, 'cost_score': 0.6896551724137931, 'score': 0.6986165933168146, 'num_modules': 19, 'num_switches': 10, 'num_links': 76, 'search_time': 378.378555059433}\n",
      "will write graph_state object to file  C:/Users\\smora\\Documents\\LiU\\Workspace\\NetGAP\\data\\example_graphs\\configuration_6p_1129033.json\n",
      "\n",
      "\n",
      "Starting search epoch 47 with seed 133902224\n"
     ]
    },
    {
     "name": "stderr",
     "output_type": "stream",
     "text": [
      " 72%|████████████████████████████████████████████████████████████████████████▌                           | 29/40 [06:17<02:23, 13.02s/it, iterations=30, nodes=216]\n"
     ]
    },
    {
     "name": "stdout",
     "output_type": "stream",
     "text": [
      "Exploration terminated: node is terminal by condition\n",
      "Explored total of 878 configurations for a total of 263400 solutions in 900 iterations\n",
      "Exploration took 377.62s\n",
      "Monte Carlo tree  size: 216 nodes\n",
      "Best Solution: 0.69 found in 380.98s\n",
      "{'max_load': 0.79999999999, 'overload_count': 0, 'mean_hops': 3.5519713261648747, 'max_hops': 5, 'latency_score': 0.5630676084762866, 'connectivity_score': 1.0, 'SW_connectivity': 1.0, 'shortest_routing_options': 157286400, 'total_cost': 300, 'cost_score': 0.6666666666666666, 'score': 0.6918937433905146, 'num_modules': 19, 'num_switches': 11, 'num_links': 80, 'search_time': 381.25076842308044}\n",
      "will write graph_state object to file  C:/Users\\smora\\Documents\\LiU\\Workspace\\NetGAP\\data\\example_graphs\\configuration_6p_1129040.json\n",
      "\n",
      "\n",
      "Starting search epoch 48 with seed 1424755964\n"
     ]
    },
    {
     "name": "stderr",
     "output_type": "stream",
     "text": [
      " 75%|███████████████████████████████████████████████████████████████████████████                         | 30/40 [06:21<02:07, 12.73s/it, iterations=35, nodes=202]\n"
     ]
    },
    {
     "name": "stdout",
     "output_type": "stream",
     "text": [
      "Exploration terminated: node is terminal by condition\n",
      "Explored total of 882 configurations for a total of 264600 solutions in 920 iterations\n",
      "Exploration took 381.88s\n",
      "Monte Carlo tree  size: 202 nodes\n",
      "Best Solution: 0.68 found in 385.65s\n",
      "{'max_load': 0.79999999999, 'overload_count': 0, 'mean_hops': 3.652329749103943, 'max_hops': 6, 'latency_score': 0.5475956820412169, 'connectivity_score': 1.0, 'SW_connectivity': 1.0, 'shortest_routing_options': 2097152, 'total_cost': 310, 'cost_score': 0.6451612903225806, 'score': 0.6771028222788524, 'num_modules': 19, 'num_switches': 12, 'num_links': 76, 'search_time': 386.0238275527954}\n",
      "will write graph_state object to file  C:/Users\\smora\\Documents\\LiU\\Workspace\\NetGAP\\data\\example_graphs\\configuration_6p_1129046.json\n",
      "\n",
      "\n",
      "Starting search epoch 49 with seed 1226515177\n"
     ]
    },
    {
     "name": "stderr",
     "output_type": "stream",
     "text": [
      " 75%|███████████████████████████████████████████████████████████████████████████                         | 30/40 [06:19<02:06, 12.66s/it, iterations=34, nodes=342]\n"
     ]
    },
    {
     "name": "stdout",
     "output_type": "stream",
     "text": [
      "Exploration terminated: node is terminal by condition\n",
      "Explored total of 1057 configurations for a total of 317100 solutions in 1102 iterations\n",
      "Exploration took 379.92s\n",
      "Monte Carlo tree  size: 342 nodes\n",
      "Best Solution: 0.52 found in 383.11s\n",
      "{'max_load': 0.96669248, 'overload_count': 1, 'mean_hops': 3.7311827956989245, 'max_hops': 5, 'latency_score': 0.1601020737456163, 'connectivity_score': 1.0, 'SW_connectivity': 1.0, 'shortest_routing_options': -868220928, 'total_cost': 310, 'cost_score': 0.6451612903225806, 'score': 0.5221053789606122, 'num_modules': 19, 'num_switches': 12, 'num_links': 80, 'search_time': 383.64926958084106}\n",
      "will write graph_state object to file  C:/Users\\smora\\Documents\\LiU\\Workspace\\NetGAP\\data\\example_graphs\\configuration_6p_1129053.json\n",
      "0.94\n"
     ]
    }
   ],
   "source": [
    "save_file=\"configuration_6p\"\n",
    "grammar_file = \"C:/Users\\smora\\Documents\\LiU\\Workspace\\\\NetGAP\\grammars\\grammar3_2.txt\"\n",
    "\n",
    "iterations = 50\n",
    "\n",
    "total_generated=netgap_search(grammar_filename=grammar_file, print_graph=False, save_filename=save_file, save_attribute=\"latency_score\",save_th=0.15,search_loops=iterations)\n",
    "print(total_generated/iterations)"
   ]
  },
  {
   "cell_type": "code",
   "execution_count": null,
   "id": "8943cbec-48a0-423f-853d-97966e8b9d41",
   "metadata": {},
   "outputs": [],
   "source": []
  }
 ],
 "metadata": {
  "kernelspec": {
   "display_name": "windows_env",
   "language": "python",
   "name": "windows_env"
  },
  "language_info": {
   "codemirror_mode": {
    "name": "ipython",
    "version": 3
   },
   "file_extension": ".py",
   "mimetype": "text/x-python",
   "name": "python",
   "nbconvert_exporter": "python",
   "pygments_lexer": "ipython3",
   "version": "3.10.8"
  }
 },
 "nbformat": 4,
 "nbformat_minor": 5
}
